{
 "cells": [
  {
   "cell_type": "code",
   "execution_count": 193,
   "id": "1fe45157",
   "metadata": {},
   "outputs": [],
   "source": [
    "import pandas as pd\n",
    "import numpy as np\n"
   ]
  },
  {
   "cell_type": "markdown",
   "id": "7a7d62bf",
   "metadata": {},
   "source": [
    "1. Determine the number of elements in fruits.\n",
    "\n",
    "2. Output only the index from fruits.\n",
    "\n",
    "3. Output only the values from fruits.\n",
    "\n",
    "4. Confirm the data type of the values in fruits.\n"
   ]
  },
  {
   "cell_type": "code",
   "execution_count": 118,
   "id": "8c189e36",
   "metadata": {},
   "outputs": [],
   "source": [
    "fruit_list = [\"kiwi\", \"mango\", \"strawberry\", \"pineapple\", \"gala apple\", \"honeycrisp apple\", \"tomato\", \"watermelon\", \"honeydew\", \"kiwi\", \"kiwi\", \"kiwi\", \"mango\", \"blueberry\", \"blackberry\", \"gooseberry\", \"papaya\"]"
   ]
  },
  {
   "cell_type": "code",
   "execution_count": 119,
   "id": "e6ad0ced",
   "metadata": {},
   "outputs": [
    {
     "data": {
      "text/plain": [
       "0                 kiwi\n",
       "1                mango\n",
       "2           strawberry\n",
       "3            pineapple\n",
       "4           gala apple\n",
       "5     honeycrisp apple\n",
       "6               tomato\n",
       "7           watermelon\n",
       "8             honeydew\n",
       "9                 kiwi\n",
       "10                kiwi\n",
       "11                kiwi\n",
       "12               mango\n",
       "13           blueberry\n",
       "14          blackberry\n",
       "15          gooseberry\n",
       "16              papaya\n",
       "dtype: object"
      ]
     },
     "execution_count": 119,
     "metadata": {},
     "output_type": "execute_result"
    }
   ],
   "source": [
    "fruit_series = pd.Series(fruit_list)\n",
    "fruit_series"
   ]
  },
  {
   "cell_type": "code",
   "execution_count": null,
   "id": "fc66d9db",
   "metadata": {},
   "outputs": [],
   "source": [
    "len(fruit_series)"
   ]
  },
  {
   "cell_type": "code",
   "execution_count": null,
   "id": "09bb7445",
   "metadata": {},
   "outputs": [],
   "source": [
    "fruit_series.index"
   ]
  },
  {
   "cell_type": "code",
   "execution_count": null,
   "id": "682660fb",
   "metadata": {},
   "outputs": [],
   "source": [
    "fruit_series.values"
   ]
  },
  {
   "cell_type": "code",
   "execution_count": null,
   "id": "f14b7114",
   "metadata": {},
   "outputs": [],
   "source": [
    "fruit_series.dtype"
   ]
  },
  {
   "cell_type": "markdown",
   "id": "3f6a7190",
   "metadata": {},
   "source": [
    "5. Output only the first five values from fruits. Output the last three values. Output two random values from fruits.\n",
    "\n",
    "6. Run the .describe() on fruits to see what information it returns when called on a Series with string values.\n",
    "\n",
    "7. Run the code necessary to produce only the unique string values from fruits.\n",
    "\n",
    "8. Determine how many times each unique string value occurs in fruits.\n",
    "\n",
    "9. Determine the string value that occurs most frequently in fruits.\n",
    "\n",
    "10. Determine the string value that occurs least frequently in fruits."
   ]
  },
  {
   "cell_type": "code",
   "execution_count": null,
   "id": "4440f701",
   "metadata": {},
   "outputs": [],
   "source": [
    "fruit_series.head()"
   ]
  },
  {
   "cell_type": "code",
   "execution_count": null,
   "id": "96f61a00",
   "metadata": {},
   "outputs": [],
   "source": [
    "fruit_series.tail(3)"
   ]
  },
  {
   "cell_type": "code",
   "execution_count": null,
   "id": "090ab329",
   "metadata": {},
   "outputs": [],
   "source": [
    "fruit_series.sample(2)"
   ]
  },
  {
   "cell_type": "code",
   "execution_count": null,
   "id": "3e1535b1",
   "metadata": {},
   "outputs": [],
   "source": [
    "fruit_series.describe()"
   ]
  },
  {
   "cell_type": "code",
   "execution_count": null,
   "id": "c7241197",
   "metadata": {},
   "outputs": [],
   "source": [
    "pd.unique(fruit_series)"
   ]
  },
  {
   "cell_type": "code",
   "execution_count": 192,
   "id": "8b049d7b",
   "metadata": {},
   "outputs": [
    {
     "data": {
      "text/plain": [
       "kiwi                4\n",
       "mango               2\n",
       "strawberry          1\n",
       "pineapple           1\n",
       "gala apple          1\n",
       "honeycrisp apple    1\n",
       "tomato              1\n",
       "watermelon          1\n",
       "honeydew            1\n",
       "blueberry           1\n",
       "blackberry          1\n",
       "gooseberry          1\n",
       "papaya              1\n",
       "dtype: int64"
      ]
     },
     "execution_count": 192,
     "metadata": {},
     "output_type": "execute_result"
    }
   ],
   "source": [
    "fruit_series.value_counts()"
   ]
  },
  {
   "cell_type": "code",
   "execution_count": null,
   "id": "94fe563d",
   "metadata": {},
   "outputs": [],
   "source": [
    "fruit_series.mode()"
   ]
  },
  {
   "cell_type": "code",
   "execution_count": null,
   "id": "a5f321ef",
   "metadata": {},
   "outputs": [],
   "source": [
    "fruit_series.value_counts().nsmallest(n = 1, keep = 'all')\n"
   ]
  },
  {
   "cell_type": "markdown",
   "id": "cf3bc444",
   "metadata": {},
   "source": [
    "1. Capitalize all the string values in fruits.\n",
    "\n",
    "2. Count the letter \"a\" in all the string values (use string vectorization).\n",
    "\n",
    "3. Output the number of vowels in each and every string value.\n",
    "\n",
    "4. Write the code to get the longest string value from fruits.\n",
    "\n",
    "5. Write the code to get the string values with 5 or more letters in the name.\n",
    "\n",
    "6. Find the fruit(s) containing the letter \"o\" two or more times.\n",
    "\n",
    "7. Write the code to get only the string values containing the substring \"berry\".\n",
    "\n",
    "8. Write the code to get only the string values containing the substring \"apple\".\n",
    "\n",
    "9. Which string value contains the most vowels?"
   ]
  },
  {
   "cell_type": "code",
   "execution_count": 170,
   "id": "bcc2d110",
   "metadata": {},
   "outputs": [
    {
     "data": {
      "text/plain": [
       "0                 KIWI\n",
       "1                MANGO\n",
       "2           STRAWBERRY\n",
       "3            PINEAPPLE\n",
       "4           GALA APPLE\n",
       "5     HONEYCRISP APPLE\n",
       "6               TOMATO\n",
       "7           WATERMELON\n",
       "8             HONEYDEW\n",
       "9                 KIWI\n",
       "10                KIWI\n",
       "11                KIWI\n",
       "12               MANGO\n",
       "13           BLUEBERRY\n",
       "14          BLACKBERRY\n",
       "15          GOOSEBERRY\n",
       "16              PAPAYA\n",
       "dtype: object"
      ]
     },
     "execution_count": 170,
     "metadata": {},
     "output_type": "execute_result"
    }
   ],
   "source": [
    "fruit_series.str.upper()"
   ]
  },
  {
   "cell_type": "code",
   "execution_count": 107,
   "id": "96f11f4f",
   "metadata": {},
   "outputs": [
    {
     "data": {
      "text/plain": [
       "0     0\n",
       "1     1\n",
       "2     1\n",
       "3     1\n",
       "4     3\n",
       "5     1\n",
       "6     1\n",
       "7     1\n",
       "8     0\n",
       "9     0\n",
       "10    0\n",
       "11    0\n",
       "12    1\n",
       "13    0\n",
       "14    1\n",
       "15    0\n",
       "16    3\n",
       "dtype: int64"
      ]
     },
     "execution_count": 107,
     "metadata": {},
     "output_type": "execute_result"
    }
   ],
   "source": [
    "fruit_series.str.count('a')"
   ]
  },
  {
   "cell_type": "code",
   "execution_count": 145,
   "id": "5318aa2e",
   "metadata": {},
   "outputs": [
    {
     "data": {
      "text/plain": [
       "0     2\n",
       "1     2\n",
       "2     2\n",
       "3     4\n",
       "4     4\n",
       "5     5\n",
       "6     3\n",
       "7     4\n",
       "8     3\n",
       "9     2\n",
       "10    2\n",
       "11    2\n",
       "12    2\n",
       "13    3\n",
       "14    2\n",
       "15    4\n",
       "16    3\n",
       "dtype: int64"
      ]
     },
     "execution_count": 145,
     "metadata": {},
     "output_type": "execute_result"
    }
   ],
   "source": [
    "def vowel_counter(n):\n",
    "    '''\n",
    "    this function counts vowels\n",
    "    '''\n",
    "    count = 0\n",
    "    vowels = 'aeiouAEIOU'\n",
    "    for i in n:\n",
    "        if i in vowels:\n",
    "            count += 1\n",
    "    return count      \n",
    "fruit_series.apply(vowel_counter)\n",
    "\n",
    "#ALSO\n",
    "#fruit_series.str.count(r'[aeiou]')"
   ]
  },
  {
   "cell_type": "code",
   "execution_count": 175,
   "id": "2f358930",
   "metadata": {},
   "outputs": [
    {
     "data": {
      "text/plain": [
       "5    honeycrisp apple\n",
       "dtype: object"
      ]
     },
     "execution_count": 175,
     "metadata": {},
     "output_type": "execute_result"
    }
   ],
   "source": [
    "fruit_series[fruit_series.str.len() == fruit_series.str.len().max()]"
   ]
  },
  {
   "cell_type": "markdown",
   "id": "a966c630",
   "metadata": {},
   "source": [
    "Write the code to get the string values with 5 or more letters in the name."
   ]
  },
  {
   "cell_type": "code",
   "execution_count": 180,
   "id": "c56cf64c",
   "metadata": {},
   "outputs": [
    {
     "data": {
      "text/plain": [
       "2           strawberry\n",
       "3            pineapple\n",
       "4           gala apple\n",
       "5     honeycrisp apple\n",
       "6               tomato\n",
       "7           watermelon\n",
       "8             honeydew\n",
       "13           blueberry\n",
       "14          blackberry\n",
       "15          gooseberry\n",
       "16              papaya\n",
       "dtype: object"
      ]
     },
     "execution_count": 180,
     "metadata": {},
     "output_type": "execute_result"
    }
   ],
   "source": [
    "fruit_series[fruit_series.str.len() > 5]"
   ]
  },
  {
   "cell_type": "markdown",
   "id": "c3c9ca26",
   "metadata": {},
   "source": [
    "Find the fruit(s) containing the letter \"o\" two or more times."
   ]
  },
  {
   "cell_type": "code",
   "execution_count": 186,
   "id": "bf990b82",
   "metadata": {},
   "outputs": [
    {
     "data": {
      "text/plain": [
       "6         tomato\n",
       "15    gooseberry\n",
       "dtype: object"
      ]
     },
     "execution_count": 186,
     "metadata": {},
     "output_type": "execute_result"
    }
   ],
   "source": [
    "fruit_series[fruit_series.str.count('o') >= 2]"
   ]
  },
  {
   "cell_type": "code",
   "execution_count": 187,
   "id": "5da3dcdb",
   "metadata": {},
   "outputs": [
    {
     "data": {
      "text/plain": [
       "2     strawberry\n",
       "13     blueberry\n",
       "14    blackberry\n",
       "15    gooseberry\n",
       "dtype: object"
      ]
     },
     "execution_count": 187,
     "metadata": {},
     "output_type": "execute_result"
    }
   ],
   "source": [
    "fruit_series[fruit_series.str.count('berry') >= 1]"
   ]
  },
  {
   "cell_type": "code",
   "execution_count": 189,
   "id": "97636c62",
   "metadata": {},
   "outputs": [
    {
     "data": {
      "text/plain": [
       "3           pineapple\n",
       "4          gala apple\n",
       "5    honeycrisp apple\n",
       "dtype: object"
      ]
     },
     "execution_count": 189,
     "metadata": {},
     "output_type": "execute_result"
    }
   ],
   "source": [
    "fruit_series[fruit_series.str.count('apple') >= 1]"
   ]
  },
  {
   "cell_type": "markdown",
   "id": "d8f74a9e",
   "metadata": {},
   "source": [
    "Which string value contains the most vowels?"
   ]
  },
  {
   "cell_type": "code",
   "execution_count": 196,
   "id": "7b6e9794",
   "metadata": {},
   "outputs": [
    {
     "data": {
      "text/plain": [
       "'honeycrisp apple'"
      ]
     },
     "execution_count": 196,
     "metadata": {},
     "output_type": "execute_result"
    }
   ],
   "source": [
    "fruit_series[fruit_series.str.count(r'[aeiou]').max()]"
   ]
  },
  {
   "cell_type": "code",
   "execution_count": null,
   "id": "722d87c4",
   "metadata": {},
   "outputs": [],
   "source": []
  }
 ],
 "metadata": {
  "kernelspec": {
   "display_name": "Python 3 (ipykernel)",
   "language": "python",
   "name": "python3"
  },
  "language_info": {
   "codemirror_mode": {
    "name": "ipython",
    "version": 3
   },
   "file_extension": ".py",
   "mimetype": "text/x-python",
   "name": "python",
   "nbconvert_exporter": "python",
   "pygments_lexer": "ipython3",
   "version": "3.9.13"
  }
 },
 "nbformat": 4,
 "nbformat_minor": 5
}
