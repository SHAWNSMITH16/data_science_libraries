{
 "cells": [
  {
   "cell_type": "code",
   "execution_count": 193,
   "id": "1fe45157",
   "metadata": {},
   "outputs": [],
   "source": [
    "import pandas as pd\n",
    "import numpy as np\n"
   ]
  },
  {
   "cell_type": "markdown",
   "id": "7a7d62bf",
   "metadata": {},
   "source": [
    "1. Determine the number of elements in fruits.\n",
    "\n",
    "2. Output only the index from fruits.\n",
    "\n",
    "3. Output only the values from fruits.\n",
    "\n",
    "4. Confirm the data type of the values in fruits.\n"
   ]
  },
  {
   "cell_type": "code",
   "execution_count": 118,
   "id": "8c189e36",
   "metadata": {},
   "outputs": [],
   "source": [
    "fruit_list = [\"kiwi\", \"mango\", \"strawberry\", \"pineapple\", \"gala apple\", \"honeycrisp apple\", \"tomato\", \"watermelon\", \"honeydew\", \"kiwi\", \"kiwi\", \"kiwi\", \"mango\", \"blueberry\", \"blackberry\", \"gooseberry\", \"papaya\"]"
   ]
  },
  {
   "cell_type": "code",
   "execution_count": 119,
   "id": "e6ad0ced",
   "metadata": {},
   "outputs": [
    {
     "data": {
      "text/plain": [
       "0                 kiwi\n",
       "1                mango\n",
       "2           strawberry\n",
       "3            pineapple\n",
       "4           gala apple\n",
       "5     honeycrisp apple\n",
       "6               tomato\n",
       "7           watermelon\n",
       "8             honeydew\n",
       "9                 kiwi\n",
       "10                kiwi\n",
       "11                kiwi\n",
       "12               mango\n",
       "13           blueberry\n",
       "14          blackberry\n",
       "15          gooseberry\n",
       "16              papaya\n",
       "dtype: object"
      ]
     },
     "execution_count": 119,
     "metadata": {},
     "output_type": "execute_result"
    }
   ],
   "source": [
    "fruit_series = pd.Series(fruit_list)\n",
    "fruit_series"
   ]
  },
  {
   "cell_type": "code",
   "execution_count": null,
   "id": "fc66d9db",
   "metadata": {},
   "outputs": [],
   "source": [
    "len(fruit_series)"
   ]
  },
  {
   "cell_type": "code",
   "execution_count": null,
   "id": "09bb7445",
   "metadata": {},
   "outputs": [],
   "source": [
    "fruit_series.index"
   ]
  },
  {
   "cell_type": "code",
   "execution_count": null,
   "id": "682660fb",
   "metadata": {},
   "outputs": [],
   "source": [
    "fruit_series.values"
   ]
  },
  {
   "cell_type": "code",
   "execution_count": null,
   "id": "f14b7114",
   "metadata": {},
   "outputs": [],
   "source": [
    "fruit_series.dtype"
   ]
  },
  {
   "cell_type": "markdown",
   "id": "3f6a7190",
   "metadata": {},
   "source": [
    "5. Output only the first five values from fruits. Output the last three values. Output two random values from fruits.\n",
    "\n",
    "6. Run the .describe() on fruits to see what information it returns when called on a Series with string values.\n",
    "\n",
    "7. Run the code necessary to produce only the unique string values from fruits.\n",
    "\n",
    "8. Determine how many times each unique string value occurs in fruits.\n",
    "\n",
    "9. Determine the string value that occurs most frequently in fruits.\n",
    "\n",
    "10. Determine the string value that occurs least frequently in fruits."
   ]
  },
  {
   "cell_type": "code",
   "execution_count": null,
   "id": "4440f701",
   "metadata": {},
   "outputs": [],
   "source": [
    "fruit_series.head()"
   ]
  },
  {
   "cell_type": "code",
   "execution_count": null,
   "id": "96f61a00",
   "metadata": {},
   "outputs": [],
   "source": [
    "fruit_series.tail(3)"
   ]
  },
  {
   "cell_type": "code",
   "execution_count": null,
   "id": "090ab329",
   "metadata": {},
   "outputs": [],
   "source": [
    "fruit_series.sample(2)"
   ]
  },
  {
   "cell_type": "code",
   "execution_count": null,
   "id": "3e1535b1",
   "metadata": {},
   "outputs": [],
   "source": [
    "fruit_series.describe()"
   ]
  },
  {
   "cell_type": "code",
   "execution_count": null,
   "id": "c7241197",
   "metadata": {},
   "outputs": [],
   "source": [
    "pd.unique(fruit_series)"
   ]
  },
  {
   "cell_type": "code",
   "execution_count": 192,
   "id": "8b049d7b",
   "metadata": {},
   "outputs": [
    {
     "data": {
      "text/plain": [
       "kiwi                4\n",
       "mango               2\n",
       "strawberry          1\n",
       "pineapple           1\n",
       "gala apple          1\n",
       "honeycrisp apple    1\n",
       "tomato              1\n",
       "watermelon          1\n",
       "honeydew            1\n",
       "blueberry           1\n",
       "blackberry          1\n",
       "gooseberry          1\n",
       "papaya              1\n",
       "dtype: int64"
      ]
     },
     "execution_count": 192,
     "metadata": {},
     "output_type": "execute_result"
    }
   ],
   "source": [
    "fruit_series.value_counts()"
   ]
  },
  {
   "cell_type": "code",
   "execution_count": null,
   "id": "94fe563d",
   "metadata": {},
   "outputs": [],
   "source": [
    "fruit_series.mode()"
   ]
  },
  {
   "cell_type": "code",
   "execution_count": null,
   "id": "a5f321ef",
   "metadata": {},
   "outputs": [],
   "source": [
    "fruit_series.value_counts().nsmallest(n = 1, keep = 'all')\n"
   ]
  },
  {
   "cell_type": "markdown",
   "id": "cf3bc444",
   "metadata": {},
   "source": [
    "1. Capitalize all the string values in fruits.\n",
    "\n",
    "2. Count the letter \"a\" in all the string values (use string vectorization).\n",
    "\n",
    "3. Output the number of vowels in each and every string value.\n",
    "\n",
    "4. Write the code to get the longest string value from fruits.\n",
    "\n",
    "5. Write the code to get the string values with 5 or more letters in the name.\n",
    "\n",
    "6. Find the fruit(s) containing the letter \"o\" two or more times.\n",
    "\n",
    "7. Write the code to get only the string values containing the substring \"berry\".\n",
    "\n",
    "8. Write the code to get only the string values containing the substring \"apple\".\n",
    "\n",
    "9. Which string value contains the most vowels?"
   ]
  },
  {
   "cell_type": "code",
   "execution_count": 170,
   "id": "bcc2d110",
   "metadata": {},
   "outputs": [
    {
     "data": {
      "text/plain": [
       "0                 KIWI\n",
       "1                MANGO\n",
       "2           STRAWBERRY\n",
       "3            PINEAPPLE\n",
       "4           GALA APPLE\n",
       "5     HONEYCRISP APPLE\n",
       "6               TOMATO\n",
       "7           WATERMELON\n",
       "8             HONEYDEW\n",
       "9                 KIWI\n",
       "10                KIWI\n",
       "11                KIWI\n",
       "12               MANGO\n",
       "13           BLUEBERRY\n",
       "14          BLACKBERRY\n",
       "15          GOOSEBERRY\n",
       "16              PAPAYA\n",
       "dtype: object"
      ]
     },
     "execution_count": 170,
     "metadata": {},
     "output_type": "execute_result"
    }
   ],
   "source": [
    "fruit_series.str.upper()\n",
    "#fruit_series.str.title()\n",
    "#fruit_series.str.capitalize()"
   ]
  },
  {
   "cell_type": "code",
   "execution_count": 236,
   "id": "96f11f4f",
   "metadata": {},
   "outputs": [
    {
     "data": {
      "text/plain": [
       "kiwi                0\n",
       "mango               1\n",
       "strawberry          1\n",
       "pineapple           1\n",
       "gala apple          3\n",
       "honeycrisp apple    1\n",
       "tomato              1\n",
       "watermelon          1\n",
       "honeydew            0\n",
       "kiwi                0\n",
       "kiwi                0\n",
       "kiwi                0\n",
       "mango               1\n",
       "blueberry           0\n",
       "blackberry          1\n",
       "gooseberry          0\n",
       "papaya              3\n",
       "dtype: int64"
      ]
     },
     "execution_count": 236,
     "metadata": {},
     "output_type": "execute_result"
    }
   ],
   "source": [
    "fruits_a = fruit_series.str.count('a')\n",
    "fruits_a.index = list(fruit_series)\n",
    "fruits_a\n"
   ]
  },
  {
   "cell_type": "code",
   "execution_count": 243,
   "id": "5318aa2e",
   "metadata": {},
   "outputs": [
    {
     "data": {
      "text/plain": [
       "kiwi                2\n",
       "mango               2\n",
       "strawberry          2\n",
       "pineapple           4\n",
       "gala apple          4\n",
       "honeycrisp apple    5\n",
       "tomato              3\n",
       "watermelon          4\n",
       "honeydew            3\n",
       "kiwi                2\n",
       "kiwi                2\n",
       "kiwi                2\n",
       "mango               2\n",
       "blueberry           3\n",
       "blackberry          2\n",
       "gooseberry          4\n",
       "papaya              3\n",
       "dtype: int64"
      ]
     },
     "execution_count": 243,
     "metadata": {},
     "output_type": "execute_result"
    }
   ],
   "source": [
    "def vowel_counter(n):\n",
    "    '''\n",
    "    this function counts vowels\n",
    "    '''\n",
    "    count = 0\n",
    "    vowels = 'aeiouAEIOU'\n",
    "    for i in n:\n",
    "        if i in vowels:\n",
    "            count += 1\n",
    "    return count      \n",
    "fruit_series.apply(vowel_counter)\n",
    "\n",
    "#ALSO\n",
    "#fruit_series.str.count(r'[aeiou]')"
   ]
  },
  {
   "cell_type": "code",
   "execution_count": 175,
   "id": "2f358930",
   "metadata": {},
   "outputs": [
    {
     "data": {
      "text/plain": [
       "5    honeycrisp apple\n",
       "dtype: object"
      ]
     },
     "execution_count": 175,
     "metadata": {},
     "output_type": "execute_result"
    }
   ],
   "source": [
    "fruit_series[fruit_series.str.len() == fruit_series.str.len().max()]"
   ]
  },
  {
   "cell_type": "markdown",
   "id": "d63824d1",
   "metadata": {},
   "source": [
    "Write the code to get the string values with 5 or more letters in the name."
   ]
  },
  {
   "cell_type": "code",
   "execution_count": 180,
   "id": "c56cf64c",
   "metadata": {},
   "outputs": [
    {
     "data": {
      "text/plain": [
       "2           strawberry\n",
       "3            pineapple\n",
       "4           gala apple\n",
       "5     honeycrisp apple\n",
       "6               tomato\n",
       "7           watermelon\n",
       "8             honeydew\n",
       "13           blueberry\n",
       "14          blackberry\n",
       "15          gooseberry\n",
       "16              papaya\n",
       "dtype: object"
      ]
     },
     "execution_count": 180,
     "metadata": {},
     "output_type": "execute_result"
    }
   ],
   "source": [
    "fruit_series[fruit_series.str.len() > 5]"
   ]
  },
  {
   "cell_type": "markdown",
   "id": "b1d59088",
   "metadata": {},
   "source": [
    "Find the fruit(s) containing the letter \"o\" two or more times."
   ]
  },
  {
   "cell_type": "code",
   "execution_count": 186,
   "id": "64010394",
   "metadata": {},
   "outputs": [
    {
     "data": {
      "text/plain": [
       "6         tomato\n",
       "15    gooseberry\n",
       "dtype: object"
      ]
     },
     "execution_count": 186,
     "metadata": {},
     "output_type": "execute_result"
    }
   ],
   "source": [
    "fruit_series[fruit_series.str.count('o') >= 2]"
   ]
  },
  {
   "cell_type": "code",
   "execution_count": 187,
   "id": "bbacd48a",
   "metadata": {},
   "outputs": [
    {
     "data": {
      "text/plain": [
       "2     strawberry\n",
       "13     blueberry\n",
       "14    blackberry\n",
       "15    gooseberry\n",
       "dtype: object"
      ]
     },
     "execution_count": 187,
     "metadata": {},
     "output_type": "execute_result"
    }
   ],
   "source": [
    "fruit_series[fruit_series.str.count('berry') >= 1]"
   ]
  },
  {
   "cell_type": "code",
   "execution_count": 189,
   "id": "0c96b92f",
   "metadata": {},
   "outputs": [
    {
     "data": {
      "text/plain": [
       "3           pineapple\n",
       "4          gala apple\n",
       "5    honeycrisp apple\n",
       "dtype: object"
      ]
     },
     "execution_count": 189,
     "metadata": {},
     "output_type": "execute_result"
    }
   ],
   "source": [
    "fruit_series[fruit_series.str.count('apple') >= 1]"
   ]
  },
  {
   "cell_type": "markdown",
   "id": "6748974a",
   "metadata": {},
   "source": [
    "Which string value contains the most vowels?"
   ]
  },
  {
   "cell_type": "code",
   "execution_count": 244,
   "id": "eb89ae6d",
   "metadata": {},
   "outputs": [
    {
     "data": {
      "text/plain": [
       "'honeycrisp apple'"
      ]
     },
     "execution_count": 244,
     "metadata": {},
     "output_type": "execute_result"
    }
   ],
   "source": [
    "fruit_series[fruit_series.str.count('[aeiou]').max()]"
   ]
  },
  {
   "cell_type": "markdown",
   "id": "d2839158",
   "metadata": {},
   "source": [
    "Which letter occurs the most frequently in the letters Series?\n",
    "\n",
    "Which letter occurs the Least frequently?\n",
    "\n",
    "How many vowels are in the Series?\n",
    "\n",
    "How many consonants are in the Series?\n",
    "\n",
    "Create a Series that has all of the same letters but uppercased.\n",
    "\n",
    "Create a bar plot of the frequencies of the 6 most commonly occuring letters.\n"
   ]
  },
  {
   "cell_type": "code",
   "execution_count": 240,
   "id": "52076bd4",
   "metadata": {},
   "outputs": [
    {
     "data": {
      "text/plain": [
       "0      h\n",
       "1      n\n",
       "2      v\n",
       "3      i\n",
       "4      d\n",
       "      ..\n",
       "195    r\n",
       "196    o\n",
       "197    g\n",
       "198    u\n",
       "199    y\n",
       "Length: 200, dtype: object"
      ]
     },
     "execution_count": 240,
     "metadata": {},
     "output_type": "execute_result"
    }
   ],
   "source": [
    "letters = list('hnvidduckkqxwymbimkccexbkmqygkxoyndmcxnwqarhyffsjpsrabtjzsypmzadfavyrnndndvswreauxovncxtwzpwejilzjrmmbbgbyxvjtewqthafnbkqplarokkyydtubbmnexoypulzwfhqvckdpqtpoppzqrmcvhhpwgjwupgzhiofohawytlsiyecuproguy')\n",
    "letters = pd.Series(letters)\n",
    "letters"
   ]
  },
  {
   "cell_type": "code",
   "execution_count": 247,
   "id": "2d8795ab",
   "metadata": {},
   "outputs": [
    {
     "data": {
      "text/plain": [
       "y    13\n",
       "dtype: int64"
      ]
     },
     "execution_count": 247,
     "metadata": {},
     "output_type": "execute_result"
    }
   ],
   "source": [
    "#letters.mode()\n",
    "#letters.describe()\n",
    "letters.value_counts().head(1)"
   ]
  },
  {
   "cell_type": "code",
   "execution_count": 252,
   "id": "ccd3ff09",
   "metadata": {},
   "outputs": [
    {
     "data": {
      "text/plain": [
       "l    4\n",
       "dtype: int64"
      ]
     },
     "execution_count": 252,
     "metadata": {},
     "output_type": "execute_result"
    }
   ],
   "source": [
    "letters.value_counts().tail(1)\n",
    "letters.value_counts().nsmallest(1)"
   ]
  },
  {
   "cell_type": "code",
   "execution_count": 256,
   "id": "48c64bb6",
   "metadata": {},
   "outputs": [
    {
     "data": {
      "text/plain": [
       "34"
      ]
     },
     "execution_count": 256,
     "metadata": {},
     "output_type": "execute_result"
    }
   ],
   "source": [
    "letters.str.count('[aeiou]').sum()\n",
    "#letters.isin(list('aeiou')).sum()"
   ]
  },
  {
   "cell_type": "code",
   "execution_count": 261,
   "id": "3a89cb1d",
   "metadata": {},
   "outputs": [
    {
     "data": {
      "text/plain": [
       "166"
      ]
     },
     "execution_count": 261,
     "metadata": {},
     "output_type": "execute_result"
    }
   ],
   "source": [
    "letters.str.count('[^aeiou]').sum()\n",
    "#len(letters) - letters.isin(list('aeiou')).sum()\n",
    "#letters[~letters.isin(list('aeiou'))].count()"
   ]
  },
  {
   "cell_type": "code",
   "execution_count": 258,
   "id": "eea5150a",
   "metadata": {},
   "outputs": [
    {
     "data": {
      "text/plain": [
       "0      H\n",
       "1      N\n",
       "2      V\n",
       "3      I\n",
       "4      D\n",
       "      ..\n",
       "195    R\n",
       "196    O\n",
       "197    G\n",
       "198    U\n",
       "199    Y\n",
       "Length: 200, dtype: object"
      ]
     },
     "execution_count": 258,
     "metadata": {},
     "output_type": "execute_result"
    }
   ],
   "source": [
    "letters.str.upper()"
   ]
  },
  {
   "cell_type": "code",
   "execution_count": 268,
   "id": "baeb55a9",
   "metadata": {},
   "outputs": [
    {
     "data": {
      "text/plain": [
       "[Text(0.5, 0, 'Letter'),\n",
       " Text(0, 0.5, 'Frequency'),\n",
       " [<matplotlib.axis.YTick at 0x15b9a1070>,\n",
       "  <matplotlib.axis.YTick at 0x15b98d850>,\n",
       "  <matplotlib.axis.YTick at 0x15b973190>,\n",
       "  <matplotlib.axis.YTick at 0x15b9df9a0>,\n",
       "  <matplotlib.axis.YTick at 0x15b9e1130>,\n",
       "  <matplotlib.axis.YTick at 0x15b9dfd90>,\n",
       "  <matplotlib.axis.YTick at 0x15b9d8820>,\n",
       "  <matplotlib.axis.YTick at 0x15b9e11f0>,\n",
       "  <matplotlib.axis.YTick at 0x15b9e1d90>,\n",
       "  <matplotlib.axis.YTick at 0x15b9ec520>,\n",
       "  <matplotlib.axis.YTick at 0x15b9ecc70>,\n",
       "  <matplotlib.axis.YTick at 0x15b9f2400>,\n",
       "  <matplotlib.axis.YTick at 0x15b9ec4f0>,\n",
       "  <matplotlib.axis.YTick at 0x15b9d8220>,\n",
       "  <matplotlib.axis.YTick at 0x15b9f27f0>]]"
      ]
     },
     "execution_count": 268,
     "metadata": {},
     "output_type": "execute_result"
    },
    {
     "data": {
      "image/png": "[encoded data removed]",
      "text/plain": [
       "<Figure size 640x480 with 1 Axes>"
      ]
     },
     "metadata": {},
     "output_type": "display_data"
    }
   ],
   "source": [
    "letters.value_counts().head(6).plot.bar(title='Letters', \n",
    "                                        rot = 0, color = 'hotpink', \n",
    "                                        ec = 'black', width = .7).set(xlabel='Letter', \n",
    "                                                                      ylabel='Frequency',\n",
    "                                                                      yticks=(range(1,16,1)))"
   ]
  },
  {
   "cell_type": "markdown",
   "id": "b31e3825",
   "metadata": {},
   "source": [
    "What is the data type of the numbers Series?\n",
    "\n",
    "How many elements are in the number Series?\n",
    "\n",
    "Perform the necessary manipulations by accessing Series attributes and methods to convert the numbers Series to a numeric data type.\n",
    "(get rid of the special characters like '$' and ',')\n",
    "\n",
    "Run the code to discover the maximum value from the Series.\n",
    "\n",
    "Run the code to discover the minimum value from the Series.\n",
    "\n",
    "What is the range of the values in the Series?\n",
    "\n",
    "Bin the data into 4 equally sized intervals or bins and output how many values fall into each bin.\n",
    "\n",
    "Plot the binned data in a meaningful way. Be sure to include a title and axis labels."
   ]
  },
  {
   "cell_type": "code",
   "execution_count": 270,
   "id": "11bb4f1a",
   "metadata": {},
   "outputs": [
    {
     "data": {
      "text/plain": [
       "dtype('O')"
      ]
     },
     "execution_count": 270,
     "metadata": {},
     "output_type": "execute_result"
    }
   ],
   "source": [
    "numbers = ['$796,459.41', '$278.60', '$482,571.67', '$4,503,915.98', '$2,121,418.3', '$1,260,813.3', '$87,231.01', '$1,509,175.45', '$4,138,548.00', '$2,848,913.80', '$594,715.39', '$4,789,988.17', '$4,513,644.5', '$3,191,059.97', '$1,758,712.24', '$4,338,283.54', '$4,738,303.38', '$2,791,759.67', '$769,681.94', '$452,650.23']\n",
    "numbers = pd.Series(numbers)\n",
    "numbers\n",
    "numbers.dtype"
   ]
  },
  {
   "cell_type": "code",
   "execution_count": 273,
   "id": "374e1d29",
   "metadata": {},
   "outputs": [
    {
     "data": {
      "text/plain": [
       "20"
      ]
     },
     "execution_count": 273,
     "metadata": {},
     "output_type": "execute_result"
    }
   ],
   "source": [
    "numbers.count()\n",
    "numbers.size\n",
    "numbers.shape[0]"
   ]
  },
  {
   "cell_type": "code",
   "execution_count": 277,
   "id": "d6fefe2f",
   "metadata": {},
   "outputs": [
    {
     "name": "stderr",
     "output_type": "stream",
     "text": [
      "/var/folders/y6/7y_qk5sd3hq19wzg674k00bw0000gn/T/ipykernel_46317/199393327.py:1: FutureWarning: The default value of regex will change from True to False in a future version. In addition, single character regular expressions will *not* be treated as literal strings when regex=True.\n",
      "  numbers = numbers.str.replace('$', '').str.replace(',', '').astype('float')\n"
     ]
    }
   ],
   "source": [
    "numbers = numbers.str.replace('$', '').str.replace(',', '').astype('float')"
   ]
  },
  {
   "cell_type": "code",
   "execution_count": 278,
   "id": "e9808225",
   "metadata": {},
   "outputs": [
    {
     "data": {
      "text/plain": [
       "4789988.17"
      ]
     },
     "execution_count": 278,
     "metadata": {},
     "output_type": "execute_result"
    }
   ],
   "source": [
    "numbers.max()"
   ]
  },
  {
   "cell_type": "code",
   "execution_count": 279,
   "id": "d6af696f",
   "metadata": {},
   "outputs": [
    {
     "data": {
      "text/plain": [
       "278.6"
      ]
     },
     "execution_count": 279,
     "metadata": {},
     "output_type": "execute_result"
    }
   ],
   "source": [
    "numbers.min()"
   ]
  },
  {
   "cell_type": "code",
   "execution_count": 280,
   "id": "53aea6fc",
   "metadata": {},
   "outputs": [
    {
     "data": {
      "text/plain": [
       "4789709.57"
      ]
     },
     "execution_count": 280,
     "metadata": {},
     "output_type": "execute_result"
    }
   ],
   "source": [
    "numbers.max() - numbers.min()"
   ]
  },
  {
   "cell_type": "code",
   "execution_count": 282,
   "id": "9f5adeb6",
   "metadata": {},
   "outputs": [
    {
     "data": {
      "text/plain": [
       "(-4511.11, 1197705.993]       7\n",
       "(3592560.778, 4789988.17]     6\n",
       "(1197705.993, 2395133.385]    4\n",
       "(2395133.385, 3592560.778]    3\n",
       "dtype: int64"
      ]
     },
     "execution_count": 282,
     "metadata": {},
     "output_type": "execute_result"
    }
   ],
   "source": [
    "numbers_bins = pd.cut(numbers, 4)\n",
    "numbers_bins.value_counts()"
   ]
  },
  {
   "cell_type": "code",
   "execution_count": 284,
   "id": "0c8227d9",
   "metadata": {},
   "outputs": [],
   "source": [
    "numbers_bins = pd.cut(numbers, 4, labels = ['Bin1', 'Bin2', 'Bin3', 'Bin4'])"
   ]
  },
  {
   "cell_type": "code",
   "execution_count": 287,
   "id": "012dbff2",
   "metadata": {},
   "outputs": [
    {
     "data": {
      "text/plain": [
       "[Text(0.5, 0, 'Bin'),\n",
       " Text(0, 0.5, 'Total'),\n",
       " [<matplotlib.axis.YTick at 0x15ba76850>,\n",
       "  <matplotlib.axis.YTick at 0x15ba760d0>,\n",
       "  <matplotlib.axis.YTick at 0x15ba757f0>]]"
      ]
     },
     "execution_count": 287,
     "metadata": {},
     "output_type": "execute_result"
    },
    {
     "data": {
      "image/png": "[encoded data removed]",
      "text/plain": [
       "<Figure size 640x480 with 1 Axes>"
      ]
     },
     "metadata": {},
     "output_type": "display_data"
    }
   ],
   "source": [
    "(\n",
    "    numbers_bins.value_counts().loc[['Bin1', 'Bin2', 'Bin3', 'Bin4']].plot.bar(title = 'Bint Count',\n",
    "    rot = 0,\n",
    "    color = 'Green',\n",
    "    ec = 'Black',\n",
    "    width = .7).set(xlabel = 'Bin', ylabel = 'Total',\n",
    "    yticks = (1, 10, 1))\n",
    "    )"
   ]
  },
  {
   "cell_type": "markdown",
   "id": "e7987b05",
   "metadata": {},
   "source": [
    "How many elements are in the exam_scores Series?\n",
    "\n",
    "Run the code to discover the minimum, the maximum, the mean, and the median scores for the exam_scores Series.\n",
    "\n",
    "Plot the Series in a meaningful way and make sure your chart has a title and axis labels.\n",
    "\n",
    "Write the code necessary to implement a curve for your exam_grades Series and save this as curved_grades. Add the necessary points to the highest grade to make it 100, and add the same number of points to every other score in the Series as well.\n",
    "\n",
    "Use a method to convert each of the numeric values in the curved_grades Series into a categorical value of letter grades. For example, 86 should be a 'B' and 95 should be an 'A'. Save this as a Series named letter_grades.\n",
    "\n",
    "Plot your new categorical letter_grades Series in a meaninful way and include a title and axis labels."
   ]
  },
  {
   "cell_type": "code",
   "execution_count": 288,
   "id": "48718ce6",
   "metadata": {},
   "outputs": [
    {
     "data": {
      "text/plain": [
       "0     60\n",
       "1     86\n",
       "2     75\n",
       "3     62\n",
       "4     93\n",
       "5     71\n",
       "6     60\n",
       "7     83\n",
       "8     95\n",
       "9     78\n",
       "10    65\n",
       "11    72\n",
       "12    69\n",
       "13    81\n",
       "14    96\n",
       "15    80\n",
       "16    85\n",
       "17    92\n",
       "18    82\n",
       "19    78\n",
       "dtype: int64"
      ]
     },
     "execution_count": 288,
     "metadata": {},
     "output_type": "execute_result"
    }
   ],
   "source": [
    "exam_scores = [60, 86, 75, 62, 93, 71, 60, 83, 95, 78, 65, 72, 69, 81, 96, 80, 85, 92, 82, 78]\n",
    "exam_scores = pd.Series(exam_scores)\n",
    "exam_scores\n"
   ]
  },
  {
   "cell_type": "code",
   "execution_count": 290,
   "id": "bae1b840",
   "metadata": {},
   "outputs": [
    {
     "data": {
      "text/plain": [
       "20"
      ]
     },
     "execution_count": 290,
     "metadata": {},
     "output_type": "execute_result"
    }
   ],
   "source": [
    "exam_scores.describe()\n",
    "exam_scores.count()"
   ]
  },
  {
   "cell_type": "markdown",
   "id": "1c8ff1ce",
   "metadata": {},
   "source": [
    "Run the code to discover the minimum, the maximum, the mean, and the median scores for the exam_scores Series."
   ]
  },
  {
   "cell_type": "code",
   "execution_count": 305,
   "id": "ddc43246",
   "metadata": {},
   "outputs": [
    {
     "data": {
      "text/plain": [
       "(60, 96, 78.15, 79.0)"
      ]
     },
     "execution_count": 305,
     "metadata": {},
     "output_type": "execute_result"
    }
   ],
   "source": [
    "(\n",
    "    exam_scores.min(),\n",
    "    exam_scores.max(),\n",
    "    exam_scores.mean(),\n",
    "    exam_scores.median()\n",
    ")"
   ]
  },
  {
   "cell_type": "code",
   "execution_count": 306,
   "id": "6744f6e4",
   "metadata": {},
   "outputs": [
    {
     "data": {
      "text/plain": [
       "60"
      ]
     },
     "execution_count": 306,
     "metadata": {},
     "output_type": "execute_result"
    }
   ],
   "source": [
    "exam_scores.min()"
   ]
  },
  {
   "cell_type": "code",
   "execution_count": 293,
   "id": "d3e5dbed",
   "metadata": {},
   "outputs": [
    {
     "data": {
      "text/plain": [
       "96"
      ]
     },
     "execution_count": 293,
     "metadata": {},
     "output_type": "execute_result"
    }
   ],
   "source": [
    "exam_scores.max()"
   ]
  },
  {
   "cell_type": "code",
   "execution_count": 294,
   "id": "130dd75e",
   "metadata": {},
   "outputs": [
    {
     "data": {
      "text/plain": [
       "78.15"
      ]
     },
     "execution_count": 294,
     "metadata": {},
     "output_type": "execute_result"
    }
   ],
   "source": [
    "exam_scores.mean()"
   ]
  },
  {
   "cell_type": "code",
   "execution_count": 295,
   "id": "5fed7cf9",
   "metadata": {},
   "outputs": [
    {
     "data": {
      "text/plain": [
       "79.0"
      ]
     },
     "execution_count": 295,
     "metadata": {},
     "output_type": "execute_result"
    }
   ],
   "source": [
    "exam_scores.median()"
   ]
  },
  {
   "cell_type": "markdown",
   "id": "bd6b4e87",
   "metadata": {},
   "source": [
    "Plot the Series in a meaningful way and make sure your chart has a title and axis labels."
   ]
  },
  {
   "cell_type": "code",
   "execution_count": 303,
   "id": "1eefb289",
   "metadata": {},
   "outputs": [
    {
     "data": {
      "text/plain": [
       "[Text(0.5, 0, 'Grade'), Text(0, 0.5, 'Frequency')]"
      ]
     },
     "execution_count": 303,
     "metadata": {},
     "output_type": "execute_result"
    },
    {
     "data": {
      "image/png": "[encoded data removed]",
      "text/plain": [
       "<Figure size 640x480 with 1 Axes>"
      ]
     },
     "metadata": {},
     "output_type": "display_data"
    }
   ],
   "source": [
    "exam_scores.value_counts().plot.bar(title='Exam Scores', \n",
    "                                                rot=0, \n",
    "                                                color='deepskyblue', \n",
    "                                                ec='black',\n",
    "                                                width=.8).set(xlabel='Grade',\n",
    "                                                ylabel='Frequency')\n",
    "\n"
   ]
  },
  {
   "cell_type": "code",
   "execution_count": 307,
   "id": "c95b88df",
   "metadata": {},
   "outputs": [
    {
     "data": {
      "text/plain": [
       "4"
      ]
     },
     "execution_count": 307,
     "metadata": {},
     "output_type": "execute_result"
    }
   ],
   "source": [
    "(100 - exam_scores.max())"
   ]
  },
  {
   "cell_type": "code",
   "execution_count": 308,
   "id": "077cd68a",
   "metadata": {},
   "outputs": [
    {
     "data": {
      "text/plain": [
       "100"
      ]
     },
     "execution_count": 308,
     "metadata": {},
     "output_type": "execute_result"
    }
   ],
   "source": [
    "curved_grades = exam_scores + (100 - exam_scores.max())\n",
    "curved_grades.max()"
   ]
  },
  {
   "cell_type": "code",
   "execution_count": 323,
   "id": "e035d255",
   "metadata": {},
   "outputs": [],
   "source": [
    "bin_edges = [0, 59, 69, 79, 89, 100]\n",
    "bin_labels = ['F', 'D', 'C', 'B', 'A']\n",
    "letter_grades = pd.cut(curved_grades, bins = bin_edges, labels = bin_labels)\n"
   ]
  },
  {
   "cell_type": "code",
   "execution_count": 324,
   "id": "b8a2de16",
   "metadata": {},
   "outputs": [
    {
     "data": {
      "text/plain": [
       "[Text(0.5, 0, 'Letter Grade'), Text(0, 0.5, 'Frequency')]"
      ]
     },
     "execution_count": 324,
     "metadata": {},
     "output_type": "execute_result"
    },
    {
     "data": {
      "image/png": "[encoded data removed]",
      "text/plain": [
       "<Figure size 640x480 with 1 Axes>"
      ]
     },
     "metadata": {},
     "output_type": "display_data"
    }
   ],
   "source": [
    "(\n",
    "    letter_grades.value_counts().sort_index(ascending = False).\n",
    "    plot.bar(title = 'Curved Letter Grade Distribution', rot = 0).\n",
    "    set(xlabel = 'Letter Grade', ylabel = 'Frequency')\n",
    "\n",
    ")"
   ]
  },
  {
   "cell_type": "code",
   "execution_count": null,
   "id": "c3eb4cb9",
   "metadata": {},
   "outputs": [],
   "source": []
  }
 ],
 "metadata": {
  "kernelspec": {
   "display_name": "Python 3 (ipykernel)",
   "language": "python",
   "name": "python3"
  },
  "language_info": {
   "codemirror_mode": {
    "name": "ipython",
    "version": 3
   },
   "file_extension": ".py",
   "mimetype": "text/x-python",
   "name": "python",
   "nbconvert_exporter": "python",
   "pygments_lexer": "ipython3",
   "version": "3.9.13"
  }
 },
 "nbformat": 4,
 "nbformat_minor": 5
}
