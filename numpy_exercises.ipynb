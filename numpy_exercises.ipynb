{
 "cells": [
  {
   "cell_type": "code",
   "execution_count": 75,
   "id": "5fd17379",
   "metadata": {},
   "outputs": [],
   "source": [
    "import numpy as np\n",
    "import math"
   ]
  },
  {
   "cell_type": "code",
   "execution_count": null,
   "id": "8aa78cfc",
   "metadata": {},
   "outputs": [],
   "source": [
    "a = np.array([4, 10, 12, 23, -2, -1, 0, 0, 0, -6, 3, -7])"
   ]
  },
  {
   "cell_type": "markdown",
   "id": "16f3f63d",
   "metadata": {},
   "source": [
    "1. How many negative numbers are there?"
   ]
  },
  {
   "cell_type": "code",
   "execution_count": null,
   "id": "f264c5e0",
   "metadata": {},
   "outputs": [],
   "source": [
    "(a < 0).sum()\n"
   ]
  },
  {
   "cell_type": "markdown",
   "id": "01a8ca77",
   "metadata": {},
   "source": [
    "2. How many positive numbers are there?"
   ]
  },
  {
   "cell_type": "code",
   "execution_count": null,
   "id": "9484daea",
   "metadata": {},
   "outputs": [],
   "source": [
    "(a > 0).sum()"
   ]
  },
  {
   "cell_type": "markdown",
   "id": "06e1aaec",
   "metadata": {},
   "source": [
    "3. How many even positive numbers are there?"
   ]
  },
  {
   "cell_type": "code",
   "execution_count": null,
   "id": "8f057397",
   "metadata": {},
   "outputs": [],
   "source": [
    "np.sum((a > 0) & (a % 2 == 0))\n"
   ]
  },
  {
   "cell_type": "markdown",
   "id": "48941059",
   "metadata": {},
   "source": [
    "4. If you were to add 3 to each data point, how many positive numbers would there be?"
   ]
  },
  {
   "cell_type": "code",
   "execution_count": null,
   "id": "9f6bdb5d",
   "metadata": {},
   "outputs": [],
   "source": [
    "((a + 3) > 0).sum()"
   ]
  },
  {
   "cell_type": "markdown",
   "id": "34edf672",
   "metadata": {},
   "source": [
    "5. If you squared each number, what would the new mean and standard deviation be?"
   ]
  },
  {
   "cell_type": "code",
   "execution_count": null,
   "id": "a27fdf39",
   "metadata": {},
   "outputs": [],
   "source": [
    "(a ** 2).mean()"
   ]
  },
  {
   "cell_type": "code",
   "execution_count": null,
   "id": "18607b46",
   "metadata": {},
   "outputs": [],
   "source": [
    "(a ** 2).std()"
   ]
  },
  {
   "cell_type": "markdown",
   "id": "ec442a27",
   "metadata": {},
   "source": [
    "6. A common statistical operation on a dataset is centering. This means to adjust the data such that the mean of the data is 0. This is done by subtracting the mean from each data point. Center the data set. See this link for more on centering.\n",
    "\n"
   ]
  },
  {
   "cell_type": "code",
   "execution_count": null,
   "id": "8fc48815",
   "metadata": {},
   "outputs": [],
   "source": [
    "a.mean()\n",
    "#create function to center data\n",
    "center_function = lambda x: x - x.mean()\n",
    "\n",
    "#apply function to original NumPy array\n",
    "data_centered = center_function(a)\n",
    "\n",
    "#view updated Array\n",
    "data_centered\n",
    "\n"
   ]
  },
  {
   "cell_type": "code",
   "execution_count": null,
   "id": "944bbe09",
   "metadata": {},
   "outputs": [],
   "source": [
    "#Another way:\n",
    "import statistics as st\n",
    "list_average = st.mean(a)\n",
    "centered = a - list_average\n",
    "centered\n"
   ]
  },
  {
   "cell_type": "markdown",
   "id": "a07fcdcb",
   "metadata": {},
   "source": [
    "\n",
    "\n",
    "7. Calculate the z-score for each data point. Recall that the z-score is given by:\n"
   ]
  },
  {
   "cell_type": "code",
   "execution_count": null,
   "id": "6a2dcbdd",
   "metadata": {},
   "outputs": [],
   "source": [
    "# Calculate the z-score from with scipy using sample population\n",
    "import scipy.stats as stats\n",
    "\n",
    "zscores = stats.zscore(a)\n",
    "print(a.std())\n",
    "print(a)\n",
    "print(zscores)\n"
   ]
  },
  {
   "cell_type": "code",
   "execution_count": null,
   "id": "5cdf14c6",
   "metadata": {},
   "outputs": [],
   "source": [
    "#Another Z-Score solution\n",
    "# Zscore = (observed value (a) - mean ) / std()\n",
    "import statistics as st\n",
    "print(a)\n",
    "(a - a.mean()) / st.stdev(a)"
   ]
  },
  {
   "cell_type": "code",
   "execution_count": 24,
   "id": "54b4d057",
   "metadata": {},
   "outputs": [],
   "source": [
    "a = np.array([1, 2, 3, 4, 5, 6, 7, 8, 9, 10])"
   ]
  },
  {
   "cell_type": "markdown",
   "id": "9659bb65",
   "metadata": {},
   "source": [
    "## 1\n",
    "#Exercise 1 - Make a variable called sum_of_a to hold the sum of all the numbers in above list\n",
    "\n",
    "#Exercise 2 - Make a variable named min_of_a to hold the minimum of all the numbers in the above list\n",
    "\n",
    "#Exercise 3 - Make a variable named max_of_a to hold the max number of all the numbers in the above list\n",
    "\n",
    "#Exercise 4 - Make a variable named mean_of_a to hold the average of all the numbers in the above list\n",
    "\n",
    "#Exercise 5 - Make a variable named product_of_a to hold the product of multiplying all the numbers in the above list together\n",
    "\n",
    "#Exercise 6 - Make a variable named squares_of_a. It should hold each number in a squared like [1, 4, 9, 16, 25...]\n",
    "\n",
    "#Exercise 7 - Make a variable named odds_in_a. It should hold only the odd numbers\n",
    "\n",
    "#Exercise 8 - Make a variable named evens_in_a. It should hold only the evens.\n"
   ]
  },
  {
   "cell_type": "code",
   "execution_count": 4,
   "id": "994b7ec8",
   "metadata": {},
   "outputs": [],
   "source": [
    "sum_of_a = a.sum()\n"
   ]
  },
  {
   "cell_type": "code",
   "execution_count": null,
   "id": "65a2d338",
   "metadata": {},
   "outputs": [],
   "source": [
    "min_of_a = a.min()"
   ]
  },
  {
   "cell_type": "code",
   "execution_count": null,
   "id": "736f287f",
   "metadata": {},
   "outputs": [],
   "source": [
    "max_of_a = a.max()"
   ]
  },
  {
   "cell_type": "code",
   "execution_count": null,
   "id": "5b477e1a",
   "metadata": {},
   "outputs": [],
   "source": [
    "mean_of_a = a.mean()"
   ]
  },
  {
   "cell_type": "code",
   "execution_count": 25,
   "id": "eaabc8b4",
   "metadata": {},
   "outputs": [
    {
     "data": {
      "text/plain": [
       "array([  1,   4,   9,  16,  25,  36,  49,  64,  81, 100])"
      ]
     },
     "execution_count": 25,
     "metadata": {},
     "output_type": "execute_result"
    }
   ],
   "source": [
    "squares_of_a = a ** 2\n",
    "\n",
    "squares_of_a"
   ]
  },
  {
   "cell_type": "code",
   "execution_count": 12,
   "id": "e9afaad1",
   "metadata": {},
   "outputs": [
    {
     "data": {
      "text/plain": [
       "3628800"
      ]
     },
     "execution_count": 12,
     "metadata": {},
     "output_type": "execute_result"
    }
   ],
   "source": [
    "def find_product(arr, size):\n",
    "    result = 1\n",
    "    for i in range(size):\n",
    "        result = result * arr[i]\n",
    "    return result\n",
    "\n",
    "size1 = len(a)\n",
    "find_product(a, size1)"
   ]
  },
  {
   "cell_type": "code",
   "execution_count": 26,
   "id": "c26b1dc1",
   "metadata": {},
   "outputs": [
    {
     "data": {
      "text/plain": [
       "3628800"
      ]
     },
     "execution_count": 26,
     "metadata": {},
     "output_type": "execute_result"
    }
   ],
   "source": [
    "a.prod()"
   ]
  },
  {
   "cell_type": "code",
   "execution_count": 17,
   "id": "069aa027",
   "metadata": {},
   "outputs": [],
   "source": [
    "odds_in_a = a % 2 == 1"
   ]
  },
  {
   "cell_type": "code",
   "execution_count": 18,
   "id": "bf6890e8",
   "metadata": {},
   "outputs": [
    {
     "data": {
      "text/plain": [
       "array([1, 3, 5, 7, 9])"
      ]
     },
     "execution_count": 18,
     "metadata": {},
     "output_type": "execute_result"
    }
   ],
   "source": [
    "a[odds_in_a]"
   ]
  },
  {
   "cell_type": "code",
   "execution_count": 19,
   "id": "e3906f7f",
   "metadata": {},
   "outputs": [
    {
     "data": {
      "text/plain": [
       "array([ 2,  4,  6,  8, 10])"
      ]
     },
     "execution_count": 19,
     "metadata": {},
     "output_type": "execute_result"
    }
   ],
   "source": [
    "evens_in_a = a % 2 == 0\n",
    "a[evens_in_a]"
   ]
  },
  {
   "cell_type": "markdown",
   "id": "a458f957",
   "metadata": {},
   "source": [
    "## What about life in two dimensions? A list of lists is matrix, a table, a spreadsheet, a chessboard...\n",
    "## Setup 2: Consider what it would take to find the sum, min, max, average, sum, product, and list of squares for this list of two lists.\n",
    "b = [\n",
    "    [3, 4, 5],\n",
    "    [6, 7, 8]\n",
    "]\n",
    "\n",
    "#Exercise 1 - refactor the following to use numpy. Use sum_of_b as the variable. **Hint, you'll first need to make sure that the \"b\" variable is a numpy array**\n",
    "sum_of_b = 0\n",
    "for row in b:\n",
    "    sum_of_b += sum(row)\n",
    "\n",
    "#Exercise 2 - refactor the following to use numpy. \n",
    "min_of_b = min(b[0]) if min(b[0]) <= min(b[1]) else min(b[1])  \n",
    "\n",
    "#Exercise 3 - refactor the following maximum calculation to find the answer with numpy.\n",
    "max_of_b = max(b[0]) if max(b[0]) >= max(b[1]) else max(b[1])\n",
    "\n",
    "\n",
    "#Exercise 4 - refactor the following using numpy to find the mean of b\n",
    "mean_of_b = (sum(b[0]) + sum(b[1])) / (len(b[0]) + len(b[1]))\n",
    "\n",
    "#Exercise 5 - refactor the following to use numpy for calculating the product of all numbers multiplied together.\n",
    "product_of_b = 1\n",
    "for row in b:\n",
    "    for number in row:\n",
    "        product_of_b *= number\n",
    "\n",
    "#Exercise 6 - refactor the following to use numpy to find the list of squares \n",
    "squares_of_b = []\n",
    "for row in b:\n",
    "    for number in row:\n",
    "        squares_of_b.append(number**2)\n",
    "\n",
    "\n",
    "#Exercise 7 - refactor using numpy to determine the odds_in_b\n",
    "odds_in_b = []\n",
    "for row in b:\n",
    "    for number in row:\n",
    "        if(number % 2 != 0):\n",
    "            odds_in_b.append(number)\n",
    "\n",
    "\n",
    "#Exercise 8 - refactor the following to use numpy to filter only the even numbers\n",
    "evens_in_b = []\n",
    "for row in b:\n",
    "    for number in row:\n",
    "        if(number % 2 == 0):\n",
    "            evens_in_b.append(number)\n",
    "\n",
    "#Exercise 9 - print out the shape of the array b.\n",
    "\n",
    "#Exercise 10 - transpose the array b.\n",
    "\n",
    "#Exercise 11 - reshape the array b to be a single list of 6 numbers. (1 x 6)\n",
    "\n",
    "#Exercise 12 - reshape the array b to be a list of 6 lists, each containing only 1 number (6 x 1)"
   ]
  },
  {
   "cell_type": "code",
   "execution_count": 8,
   "id": "f2b15404",
   "metadata": {},
   "outputs": [
    {
     "data": {
      "text/plain": [
       "array([[3, 4, 5],\n",
       "       [6, 7, 8]])"
      ]
     },
     "execution_count": 8,
     "metadata": {},
     "output_type": "execute_result"
    }
   ],
   "source": [
    "b = np.array([[3, 4, 5], \n",
    "             [6, 7, 8]])\n",
    "b"
   ]
  },
  {
   "cell_type": "code",
   "execution_count": 16,
   "id": "3b8719da",
   "metadata": {},
   "outputs": [
    {
     "data": {
      "text/plain": [
       "33"
      ]
     },
     "execution_count": 16,
     "metadata": {},
     "output_type": "execute_result"
    }
   ],
   "source": [
    "b.sum()\n",
    "#sum_of_b = 0\n",
    "#for row in b:\n",
    "#    sum_of_b += sum(row)"
   ]
  },
  {
   "cell_type": "code",
   "execution_count": 47,
   "id": "762491b9",
   "metadata": {},
   "outputs": [
    {
     "data": {
      "text/plain": [
       "3"
      ]
     },
     "execution_count": 47,
     "metadata": {},
     "output_type": "execute_result"
    }
   ],
   "source": [
    "b.min()\n",
    "#min_of_b = min(b[0]) if min(b[0]) <= min(b[1]) else min(b[1]) "
   ]
  },
  {
   "cell_type": "code",
   "execution_count": 18,
   "id": "9485250a",
   "metadata": {},
   "outputs": [
    {
     "data": {
      "text/plain": [
       "8"
      ]
     },
     "execution_count": 18,
     "metadata": {},
     "output_type": "execute_result"
    }
   ],
   "source": [
    "b.max()\n",
    "#max_of_b = max(b[0]) if max(b[0]) >= max(b[1]) else max(b[1])"
   ]
  },
  {
   "cell_type": "code",
   "execution_count": 20,
   "id": "5c394e67",
   "metadata": {},
   "outputs": [
    {
     "data": {
      "text/plain": [
       "5.5"
      ]
     },
     "execution_count": 20,
     "metadata": {},
     "output_type": "execute_result"
    }
   ],
   "source": [
    "b.mean()\n",
    "#mean_of_b = (sum(b[0]) + sum(b[1])) / (len(b[0]) + len(b[1]))\n",
    "\n",
    "mean_of_b"
   ]
  },
  {
   "cell_type": "code",
   "execution_count": 27,
   "id": "331bdc4d",
   "metadata": {},
   "outputs": [
    {
     "data": {
      "text/plain": [
       "20160"
      ]
     },
     "execution_count": 27,
     "metadata": {},
     "output_type": "execute_result"
    }
   ],
   "source": [
    "b.prod()\n",
    "#product_of_b = 1 \n",
    "#for row in b: \n",
    "#    for number in row: \n",
    "#        product_of_b *= number\n",
    "\n",
    "product_of_b"
   ]
  },
  {
   "cell_type": "code",
   "execution_count": 28,
   "id": "6b916002",
   "metadata": {},
   "outputs": [
    {
     "data": {
      "text/plain": [
       "array([[ 9, 16, 25],\n",
       "       [36, 49, 64]])"
      ]
     },
     "execution_count": 28,
     "metadata": {},
     "output_type": "execute_result"
    }
   ],
   "source": [
    "squares_of_b = b ** 2\n",
    "#squares_of_b = [] \n",
    "#for row in b: \n",
    "#    for number in row: \n",
    "#        squares_of_b.append(number**2)\n",
    "squares_of_b"
   ]
  },
  {
   "cell_type": "code",
   "execution_count": 29,
   "id": "c5988cad",
   "metadata": {},
   "outputs": [
    {
     "data": {
      "text/plain": [
       "array([3, 5, 7])"
      ]
     },
     "execution_count": 29,
     "metadata": {},
     "output_type": "execute_result"
    }
   ],
   "source": [
    "odds_in_b = b % 2 == 1\n",
    "#odds_in_b = [] \n",
    "#for row in b: \n",
    "#    for number in row: \n",
    "#        if(number % 2 != 0): \n",
    "#            odds_in_b.append(number)\n",
    "b[odds_in_b]"
   ]
  },
  {
   "cell_type": "code",
   "execution_count": 31,
   "id": "e867579b",
   "metadata": {},
   "outputs": [
    {
     "data": {
      "text/plain": [
       "array([4, 6, 8])"
      ]
     },
     "execution_count": 31,
     "metadata": {},
     "output_type": "execute_result"
    }
   ],
   "source": [
    "evens_in_b = b % 2 == 0\n",
    "#evens_in_b = [] \n",
    "#for row in b: \n",
    "#    for number in row: \n",
    "#        if(number % 2 == 0): \n",
    "#            evens_in_b.append(number)\n",
    "\n",
    "b[evens_in_b]"
   ]
  },
  {
   "cell_type": "code",
   "execution_count": 32,
   "id": "43a9300d",
   "metadata": {},
   "outputs": [
    {
     "data": {
      "text/plain": [
       "(2, 3)"
      ]
     },
     "execution_count": 32,
     "metadata": {},
     "output_type": "execute_result"
    }
   ],
   "source": [
    "b.shape"
   ]
  },
  {
   "cell_type": "code",
   "execution_count": 33,
   "id": "ad4f540a",
   "metadata": {},
   "outputs": [
    {
     "data": {
      "text/plain": [
       "array([[3, 6],\n",
       "       [4, 7],\n",
       "       [5, 8]])"
      ]
     },
     "execution_count": 33,
     "metadata": {},
     "output_type": "execute_result"
    }
   ],
   "source": [
    "b.transpose()"
   ]
  },
  {
   "cell_type": "code",
   "execution_count": 35,
   "id": "9dfe014f",
   "metadata": {},
   "outputs": [
    {
     "data": {
      "text/plain": [
       "array([[3, 4, 5],\n",
       "       [6, 7, 8]])"
      ]
     },
     "execution_count": 35,
     "metadata": {},
     "output_type": "execute_result"
    }
   ],
   "source": [
    "b[0:]"
   ]
  },
  {
   "cell_type": "code",
   "execution_count": 41,
   "id": "06fd1ca8",
   "metadata": {},
   "outputs": [
    {
     "data": {
      "text/plain": [
       "array([3, 4, 5, 6, 7, 8])"
      ]
     },
     "execution_count": 41,
     "metadata": {},
     "output_type": "execute_result"
    }
   ],
   "source": [
    "b.flatten()"
   ]
  },
  {
   "cell_type": "code",
   "execution_count": 42,
   "id": "f92817eb",
   "metadata": {},
   "outputs": [
    {
     "data": {
      "text/plain": [
       "array([[3],\n",
       "       [4],\n",
       "       [5],\n",
       "       [6],\n",
       "       [7],\n",
       "       [8]])"
      ]
     },
     "execution_count": 42,
     "metadata": {},
     "output_type": "execute_result"
    }
   ],
   "source": [
    "b.reshape((6, 1))"
   ]
  },
  {
   "cell_type": "markdown",
   "id": "0bbcc86e",
   "metadata": {},
   "source": [
    "## Setup 3\n",
    "c = [\n",
    "    [1, 2, 3],\n",
    "    [4, 5, 6],\n",
    "    [7, 8, 9]\n",
    "]\n",
    "\n",
    " HINT, you'll first need to make sure that the \"c\" variable is a numpy array prior to using numpy array methods.\n",
    " \n",
    "#Exercise 1 - Find the min, max, sum, and product of c.\n",
    "\n",
    "#Exercise 2 - Determine the standard deviation of c.\n",
    "\n",
    "#Exercise 3 - Determine the variance of c.\n",
    "\n",
    "#Exercise 4 - Print out the shape of the array c\n",
    "\n",
    "#Exercise 5 - Transpose c and print out transposed result.\n",
    "\n",
    "#Exercise 6 - Get the dot product of the array c with c. \n",
    "\n",
    "#Exercise 7 - Write the code necessary to sum up the result of c times c transposed. Answer should be 261\n",
    "\n",
    "#Exercise 8 - Write the code necessary to determine the product of c times c transposed. Answer should be 131681894400."
   ]
  },
  {
   "cell_type": "code",
   "execution_count": 63,
   "id": "1a4b9f55",
   "metadata": {},
   "outputs": [
    {
     "data": {
      "text/plain": [
       "array([[1, 2, 3],\n",
       "       [4, 5, 6],\n",
       "       [7, 8, 9]])"
      ]
     },
     "execution_count": 63,
     "metadata": {},
     "output_type": "execute_result"
    }
   ],
   "source": [
    "c = np.array([[1, 2, 3], [4, 5, 6], [7, 8, 9]])\n",
    "c"
   ]
  },
  {
   "cell_type": "code",
   "execution_count": 48,
   "id": "c1d6ead4",
   "metadata": {},
   "outputs": [
    {
     "data": {
      "text/plain": [
       "1"
      ]
     },
     "execution_count": 48,
     "metadata": {},
     "output_type": "execute_result"
    }
   ],
   "source": [
    "c.min()"
   ]
  },
  {
   "cell_type": "code",
   "execution_count": 49,
   "id": "2e3ca306",
   "metadata": {},
   "outputs": [
    {
     "data": {
      "text/plain": [
       "9"
      ]
     },
     "execution_count": 49,
     "metadata": {},
     "output_type": "execute_result"
    }
   ],
   "source": [
    "c.max()"
   ]
  },
  {
   "cell_type": "code",
   "execution_count": 50,
   "id": "f5557d8d",
   "metadata": {},
   "outputs": [
    {
     "data": {
      "text/plain": [
       "45"
      ]
     },
     "execution_count": 50,
     "metadata": {},
     "output_type": "execute_result"
    }
   ],
   "source": [
    "c.sum()"
   ]
  },
  {
   "cell_type": "code",
   "execution_count": 51,
   "id": "4cdc530d",
   "metadata": {},
   "outputs": [
    {
     "data": {
      "text/plain": [
       "362880"
      ]
     },
     "execution_count": 51,
     "metadata": {},
     "output_type": "execute_result"
    }
   ],
   "source": [
    "c.prod()"
   ]
  },
  {
   "cell_type": "code",
   "execution_count": 52,
   "id": "540a9740",
   "metadata": {},
   "outputs": [
    {
     "data": {
      "text/plain": [
       "2.581988897471611"
      ]
     },
     "execution_count": 52,
     "metadata": {},
     "output_type": "execute_result"
    }
   ],
   "source": [
    "c.std()"
   ]
  },
  {
   "cell_type": "code",
   "execution_count": 54,
   "id": "f9044d24",
   "metadata": {},
   "outputs": [
    {
     "data": {
      "text/plain": [
       "6.666666666666667"
      ]
     },
     "execution_count": 54,
     "metadata": {},
     "output_type": "execute_result"
    }
   ],
   "source": [
    "c.var()"
   ]
  },
  {
   "cell_type": "code",
   "execution_count": 55,
   "id": "8d78ffb0",
   "metadata": {},
   "outputs": [
    {
     "data": {
      "text/plain": [
       "array([[1, 4, 7],\n",
       "       [2, 5, 8],\n",
       "       [3, 6, 9]])"
      ]
     },
     "execution_count": 55,
     "metadata": {},
     "output_type": "execute_result"
    }
   ],
   "source": [
    "c.transpose()"
   ]
  },
  {
   "cell_type": "code",
   "execution_count": 57,
   "id": "7696a59f",
   "metadata": {},
   "outputs": [
    {
     "data": {
      "text/plain": [
       "array([[ 30,  36,  42],\n",
       "       [ 66,  81,  96],\n",
       "       [102, 126, 150]])"
      ]
     },
     "execution_count": 57,
     "metadata": {},
     "output_type": "execute_result"
    }
   ],
   "source": [
    "c.dot(c, c)"
   ]
  },
  {
   "cell_type": "code",
   "execution_count": 65,
   "id": "98c6ccf3",
   "metadata": {},
   "outputs": [],
   "source": [
    "c = c * c.transpose()"
   ]
  },
  {
   "cell_type": "code",
   "execution_count": 67,
   "id": "73d3249f",
   "metadata": {},
   "outputs": [
    {
     "data": {
      "text/plain": [
       "261"
      ]
     },
     "execution_count": 67,
     "metadata": {},
     "output_type": "execute_result"
    }
   ],
   "source": [
    "c.sum()"
   ]
  },
  {
   "cell_type": "code",
   "execution_count": 68,
   "id": "7bb6e7d0",
   "metadata": {},
   "outputs": [
    {
     "data": {
      "text/plain": [
       "131681894400"
      ]
     },
     "execution_count": 68,
     "metadata": {},
     "output_type": "execute_result"
    }
   ],
   "source": [
    "c.prod()"
   ]
  },
  {
   "cell_type": "markdown",
   "id": "7a210ef8",
   "metadata": {},
   "source": [
    "## Setup 4\n",
    "d = [\n",
    "    [90, 30, 45, 0, 120, 180],\n",
    "    [45, -90, -30, 270, 90, 0],\n",
    "    [60, 45, -45, 90, -45, 180]\n",
    "]\n",
    "\n",
    "#Exercise 1 - Find the sine of all the numbers in d\n",
    "\n",
    "#Exercise 2 - Find the cosine of all the numbers in d\n",
    "\n",
    "#Exercise 3 - Find the tangent of all the numbers in d\n",
    "\n",
    "#Exercise 4 - Find all the negative numbers in d\n",
    "\n",
    "#Exercise 5 - Find all the positive numbers in d\n",
    "\n",
    "#Exercise 6 - Return an array of only the unique numbers in d.\n",
    "\n",
    "#Exercise 7 - Determine how many unique numbers there are in d.\n",
    "\n",
    "#Exercise 8 - Print out the shape of d.\n",
    "\n",
    "#Exercise 9 - Transpose and then print out the shape of d.\n",
    "\n",
    "#Exercise 10 - Reshape d into an array of 9 x 2"
   ]
  },
  {
   "cell_type": "code",
   "execution_count": 80,
   "id": "b340d5b4",
   "metadata": {},
   "outputs": [
    {
     "data": {
      "text/plain": [
       "array([[ 90,  30,  45,   0, 120, 180],\n",
       "       [ 45, -90, -30, 270,  90,   0],\n",
       "       [ 60,  45, -45,  90, -45, 180]])"
      ]
     },
     "execution_count": 80,
     "metadata": {},
     "output_type": "execute_result"
    }
   ],
   "source": [
    "d = np.array([\n",
    "    [90, 30, 45, 0, 120, 180],\n",
    "    [45, -90, -30, 270, 90, 0],\n",
    "    [60, 45, -45, 90, -45, 180]\n",
    "])\n",
    "d"
   ]
  },
  {
   "cell_type": "code",
   "execution_count": 82,
   "id": "4474420c",
   "metadata": {},
   "outputs": [
    {
     "data": {
      "text/plain": [
       "array([[ 0.89399666, -0.98803162,  0.85090352,  0.        ,  0.58061118,\n",
       "        -0.80115264],\n",
       "       [ 0.85090352, -0.89399666,  0.98803162, -0.17604595,  0.89399666,\n",
       "         0.        ],\n",
       "       [-0.30481062,  0.85090352, -0.85090352,  0.89399666, -0.85090352,\n",
       "        -0.80115264]])"
      ]
     },
     "execution_count": 82,
     "metadata": {},
     "output_type": "execute_result"
    }
   ],
   "source": [
    "sin_values = np.sin(d)\n",
    "sin_values"
   ]
  },
  {
   "cell_type": "code",
   "execution_count": 83,
   "id": "cb05e812",
   "metadata": {},
   "outputs": [
    {
     "data": {
      "text/plain": [
       "array([[-0.44807362,  0.15425145,  0.52532199,  1.        ,  0.81418097,\n",
       "        -0.59846007],\n",
       "       [ 0.52532199, -0.44807362,  0.15425145,  0.98438195, -0.44807362,\n",
       "         1.        ],\n",
       "       [-0.95241298,  0.52532199,  0.52532199, -0.44807362,  0.52532199,\n",
       "        -0.59846007]])"
      ]
     },
     "execution_count": 83,
     "metadata": {},
     "output_type": "execute_result"
    }
   ],
   "source": [
    "cos_values = np.cos(d)\n",
    "cos_values"
   ]
  },
  {
   "cell_type": "code",
   "execution_count": 84,
   "id": "626baa35",
   "metadata": {},
   "outputs": [
    {
     "data": {
      "text/plain": [
       "array([[-1.99520041, -6.4053312 ,  1.61977519,  0.        ,  0.71312301,\n",
       "         1.33869021],\n",
       "       [ 1.61977519,  1.99520041,  6.4053312 , -0.17883906, -1.99520041,\n",
       "         0.        ],\n",
       "       [ 0.32004039,  1.61977519, -1.61977519, -1.99520041, -1.61977519,\n",
       "         1.33869021]])"
      ]
     },
     "execution_count": 84,
     "metadata": {},
     "output_type": "execute_result"
    }
   ],
   "source": [
    "tan_values = np.tan(d)\n",
    "tan_values"
   ]
  },
  {
   "cell_type": "code",
   "execution_count": 86,
   "id": "2d13ba63",
   "metadata": {},
   "outputs": [
    {
     "data": {
      "text/plain": [
       "array([-90, -30, -45, -45])"
      ]
     },
     "execution_count": 86,
     "metadata": {},
     "output_type": "execute_result"
    }
   ],
   "source": [
    "negatives_in_d = d < 0\n",
    "d[negatives_in_d]"
   ]
  },
  {
   "cell_type": "code",
   "execution_count": 87,
   "id": "a6667fb4",
   "metadata": {},
   "outputs": [
    {
     "data": {
      "text/plain": [
       "array([ 90,  30,  45, 120, 180,  45, 270,  90,  60,  45,  90, 180])"
      ]
     },
     "execution_count": 87,
     "metadata": {},
     "output_type": "execute_result"
    }
   ],
   "source": [
    "positives_in_d = d > 0\n",
    "d[positives_in_d]"
   ]
  },
  {
   "cell_type": "code",
   "execution_count": 93,
   "id": "00d6d7f0",
   "metadata": {},
   "outputs": [
    {
     "data": {
      "text/plain": [
       "array([-90, -45, -30,   0,  30,  45,  60,  90, 120, 180, 270])"
      ]
     },
     "execution_count": 93,
     "metadata": {},
     "output_type": "execute_result"
    }
   ],
   "source": [
    "unique_values = np.unique(d)\n",
    "unique_values"
   ]
  },
  {
   "cell_type": "code",
   "execution_count": 103,
   "id": "0aebb9d3",
   "metadata": {},
   "outputs": [
    {
     "data": {
      "text/plain": [
       "array([[-90, -45, -30,   0,  30,  45,  60,  90, 120, 180, 270],\n",
       "       [  1,   2,   1,   2,   1,   3,   1,   3,   1,   2,   1]])"
      ]
     },
     "execution_count": 103,
     "metadata": {},
     "output_type": "execute_result"
    }
   ],
   "source": [
    "unique, frequency = np.unique(d, return_counts = True) \n",
    "  \n",
    "# convert both into one numpy array\n",
    "count = np.asarray((unique, frequency ))\n",
    "how_many = 0\n",
    "count\n"
   ]
  },
  {
   "cell_type": "code",
   "execution_count": 105,
   "id": "faf841ff",
   "metadata": {},
   "outputs": [
    {
     "data": {
      "text/plain": [
       "(3, 6)"
      ]
     },
     "execution_count": 105,
     "metadata": {},
     "output_type": "execute_result"
    }
   ],
   "source": [
    "d.shape"
   ]
  },
  {
   "cell_type": "code",
   "execution_count": 107,
   "id": "f864479b",
   "metadata": {},
   "outputs": [
    {
     "data": {
      "text/plain": [
       "array([[ 90,  45,  60],\n",
       "       [ 30, -90,  45],\n",
       "       [ 45, -30, -45],\n",
       "       [  0, 270,  90],\n",
       "       [120,  90, -45],\n",
       "       [180,   0, 180]])"
      ]
     },
     "execution_count": 107,
     "metadata": {},
     "output_type": "execute_result"
    }
   ],
   "source": [
    "d = d.transpose()\n",
    "d"
   ]
  },
  {
   "cell_type": "code",
   "execution_count": 109,
   "id": "0ad869c4",
   "metadata": {},
   "outputs": [
    {
     "data": {
      "text/plain": [
       "array([[ 90,  45],\n",
       "       [ 60,  30],\n",
       "       [-90,  45],\n",
       "       [ 45, -30],\n",
       "       [-45,   0],\n",
       "       [270,  90],\n",
       "       [120,  90],\n",
       "       [-45, 180],\n",
       "       [  0, 180]])"
      ]
     },
     "execution_count": 109,
     "metadata": {},
     "output_type": "execute_result"
    }
   ],
   "source": [
    "d.reshape((9, 2))"
   ]
  },
  {
   "cell_type": "code",
   "execution_count": null,
   "id": "dddc9bfe",
   "metadata": {},
   "outputs": [],
   "source": []
  }
 ],
 "metadata": {
  "kernelspec": {
   "display_name": "Python 3 (ipykernel)",
   "language": "python",
   "name": "python3"
  },
  "language_info": {
   "codemirror_mode": {
    "name": "ipython",
    "version": 3
   },
   "file_extension": ".py",
   "mimetype": "text/x-python",
   "name": "python",
   "nbconvert_exporter": "python",
   "pygments_lexer": "ipython3",
   "version": "3.9.13"
  }
 },
 "nbformat": 4,
 "nbformat_minor": 5
}
