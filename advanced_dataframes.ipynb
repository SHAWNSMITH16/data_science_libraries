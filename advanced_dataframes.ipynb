{
 "cells": [
  {
   "cell_type": "code",
   "execution_count": 1,
   "id": "30714608",
   "metadata": {},
   "outputs": [],
   "source": [
    "import pandas as pd\n",
    "import numpy as np\n",
    "from pydataset import data\n",
    "from env import host, username, password\n",
    "np.random.seed(123)"
   ]
  },
  {
   "cell_type": "code",
   "execution_count": null,
   "id": "7a65dd27",
   "metadata": {},
   "outputs": [],
   "source": [
    "students = ['Sally', 'Jane', 'Suzie', 'Billy', 'Ada', 'John', 'Thomas',\n",
    "            'Marie', 'Albert', 'Richard', 'Isaac', 'Alan']"
   ]
  },
  {
   "cell_type": "code",
   "execution_count": null,
   "id": "0151adee",
   "metadata": {},
   "outputs": [],
   "source": [
    "math_grades = np.random.randint(low=60, high=100, size=len(students))\n",
    "english_grades = np.random.randint(low=60, high=100, size=len(students))\n",
    "reading_grades = np.random.randint(low=60, high=100, size=len(students))"
   ]
  },
  {
   "cell_type": "code",
   "execution_count": null,
   "id": "4e42b747",
   "metadata": {},
   "outputs": [],
   "source": [
    "df = pd.DataFrame({'name': students,\n",
    "                   'math': math_grades,\n",
    "                   'english': english_grades,\n",
    "                   'reading': reading_grades,\n",
    "                   'classroom': np.random.choice(['A', 'B'], len(students))})"
   ]
  },
  {
   "cell_type": "code",
   "execution_count": null,
   "id": "511c4a4c",
   "metadata": {},
   "outputs": [],
   "source": [
    "pd.DataFrame({'A': [1, 2, 3], 'B': [4, 5, 6]})"
   ]
  },
  {
   "cell_type": "code",
   "execution_count": null,
   "id": "878994a1",
   "metadata": {},
   "outputs": [],
   "source": [
    "pd.DataFrame([[1, 2, 3], [4, 5, 6]])"
   ]
  },
  {
   "cell_type": "code",
   "execution_count": null,
   "id": "49d37d2c",
   "metadata": {},
   "outputs": [],
   "source": []
  },
  {
   "cell_type": "code",
   "execution_count": null,
   "id": "46817282",
   "metadata": {},
   "outputs": [],
   "source": [
    "data()"
   ]
  },
  {
   "cell_type": "code",
   "execution_count": null,
   "id": "d309e392",
   "metadata": {},
   "outputs": [],
   "source": [
    "mpg = data('mpg')"
   ]
  },
  {
   "cell_type": "code",
   "execution_count": 2,
   "id": "e09b2858",
   "metadata": {},
   "outputs": [],
   "source": [
    "\n",
    "def get_db_url(db):\n",
    "    from env import host, username, password\n",
    "    '''\n",
    "    return a formatted string containing username, password\n",
    "    host and database for connecting to the mySQL server and the\n",
    "    database indicated.\n",
    "    \n",
    "    env_file checks to see if the env.py exists in cwd\n",
    "    \n",
    "    '''\n",
    "    username, password, host = (username, password, host)\n",
    "    \n",
    "    return f\"mysql+pymysql://{username}:{password}@{host}/{db}\""
   ]
  },
  {
   "cell_type": "code",
   "execution_count": 3,
   "id": "038b0dfa",
   "metadata": {},
   "outputs": [],
   "source": [
    "# SQL SETUP VARIABLES\n",
    "url_chipotle = get_db_url(\"chipotle\")\n",
    "query_chipotle = '''\n",
    "SELECT\n",
    "    *\n",
    "FROM orders\n",
    "\n",
    "LIMIT 10;\n",
    "'''\n",
    "dataframe_chipotle = pd.read_sql(query_chipotle, url_chipotle)"
   ]
  },
  {
   "cell_type": "code",
   "execution_count": null,
   "id": "3d911eed",
   "metadata": {},
   "outputs": [],
   "source": [
    "from env import host, username, password"
   ]
  },
  {
   "cell_type": "markdown",
   "id": "c6fae4ae",
   "metadata": {},
   "source": [
    "# EXERCISES I"
   ]
  },
  {
   "cell_type": "code",
   "execution_count": 4,
   "id": "172ae706",
   "metadata": {},
   "outputs": [],
   "source": [
    "url_employees = get_db_url('employees')"
   ]
  },
  {
   "cell_type": "code",
   "execution_count": 6,
   "id": "7c22f8e4",
   "metadata": {},
   "outputs": [
    {
     "name": "stdout",
     "output_type": "stream",
     "text": [
      "<class 'pandas.core.frame.DataFrame'>\n",
      "RangeIndex: 300024 entries, 0 to 300023\n",
      "Data columns (total 6 columns):\n",
      " #   Column      Non-Null Count   Dtype \n",
      "---  ------      --------------   ----- \n",
      " 0   emp_no      300024 non-null  int64 \n",
      " 1   birth_date  300024 non-null  object\n",
      " 2   first_name  300024 non-null  object\n",
      " 3   last_name   300024 non-null  object\n",
      " 4   gender      300024 non-null  object\n",
      " 5   hire_date   300024 non-null  object\n",
      "dtypes: int64(1), object(5)\n",
      "memory usage: 13.7+ MB\n"
     ]
    }
   ],
   "source": [
    "query_employees = '''\n",
    "SELECT *\n",
    "FROM employees;\n",
    "'''\n",
    "df_employees = pd.read_sql(query_employees, url_employees)\n",
    "df_employees.info()"
   ]
  },
  {
   "cell_type": "code",
   "execution_count": 7,
   "id": "d5bbaa41",
   "metadata": {},
   "outputs": [
    {
     "name": "stdout",
     "output_type": "stream",
     "text": [
      "<class 'pandas.core.frame.DataFrame'>\n",
      "RangeIndex: 443308 entries, 0 to 443307\n",
      "Data columns (total 4 columns):\n",
      " #   Column     Non-Null Count   Dtype \n",
      "---  ------     --------------   ----- \n",
      " 0   emp_no     443308 non-null  int64 \n",
      " 1   title      443308 non-null  object\n",
      " 2   from_date  443308 non-null  object\n",
      " 3   to_date    443308 non-null  object\n",
      "dtypes: int64(1), object(3)\n",
      "memory usage: 13.5+ MB\n"
     ]
    }
   ],
   "source": [
    "query_titles = '''\n",
    "SELECT *\n",
    "FROM titles;\n",
    "'''\n",
    "\n",
    "df_titles = pd.read_sql(query_titles, url_employees)\n",
    "df_titles.info()"
   ]
  },
  {
   "cell_type": "code",
   "execution_count": null,
   "id": "1f59fb5f",
   "metadata": {},
   "outputs": [],
   "source": [
    "query_unique_titles = '''\n",
    "SELECT DISTINCT title\n",
    "FROM titles;\n",
    "'''\n",
    "\n",
    "unique_titles = pd.read_sql(query_unique_titles, url_employees)\n",
    "unique_titles\n"
   ]
  },
  {
   "cell_type": "code",
   "execution_count": null,
   "id": "0d4a48ea",
   "metadata": {},
   "outputs": [],
   "source": [
    "oldest_date = '''\n",
    "SELECT to_date\n",
    "FROM titles;\n",
    "'''\n",
    "\n",
    "df_oldest = pd.read_sql(oldest_date, url_employees)\n",
    "df_oldest.min()"
   ]
  },
  {
   "cell_type": "code",
   "execution_count": null,
   "id": "cd1e1223",
   "metadata": {},
   "outputs": [],
   "source": [
    "newest_date = '''\n",
    "SELECT from_date\n",
    "FROM titles;\n",
    "'''\n",
    "\n",
    "df_newest = pd.read_sql(newest_date, url_employees)\n",
    "df_newest.max()"
   ]
  },
  {
   "cell_type": "markdown",
   "id": "9087d1d2",
   "metadata": {},
   "source": [
    "# EXERCISES II"
   ]
  },
  {
   "cell_type": "markdown",
   "id": "4aaa9574",
   "metadata": {},
   "source": [
    "1. Copy the users and roles DataFrames from the examples above."
   ]
  },
  {
   "cell_type": "code",
   "execution_count": null,
   "id": "8a038034",
   "metadata": {},
   "outputs": [],
   "source": [
    "users = pd.DataFrame({\n",
    "    'id': [1, 2, 3, 4, 5, 6],\n",
    "    'name': ['bob', 'joe', 'sally', 'adam', 'jane', 'mike'],\n",
    "    'role_id': [1, 2, 3, 3, np.nan, np.nan]\n",
    "})\n",
    "users"
   ]
  },
  {
   "cell_type": "code",
   "execution_count": null,
   "id": "4ff6e3e2",
   "metadata": {},
   "outputs": [],
   "source": [
    "roles = pd.DataFrame({\n",
    "    'id': [1, 2, 3, 4],\n",
    "    'name': ['admin', 'author', 'reviewer', 'commenter']\n",
    "})\n",
    "roles"
   ]
  },
  {
   "cell_type": "markdown",
   "id": "edc94b8f",
   "metadata": {},
   "source": [
    "2. What is the result of using a right join on the DataFrames?"
   ]
  },
  {
   "cell_type": "code",
   "execution_count": null,
   "id": "cb24da94",
   "metadata": {},
   "outputs": [],
   "source": [
    "users.merge(roles, left_on='role_id', right_on='id', how='right', indicator=True)"
   ]
  },
  {
   "cell_type": "markdown",
   "id": "c2723dbb",
   "metadata": {},
   "source": [
    "3. What is the result of using an outer join on the DataFrames?"
   ]
  },
  {
   "cell_type": "code",
   "execution_count": null,
   "id": "b166f0c5",
   "metadata": {},
   "outputs": [],
   "source": [
    "users.merge(roles, left_on='role_id', right_on='id', how='outer', indicator=True)"
   ]
  },
  {
   "cell_type": "code",
   "execution_count": null,
   "id": "c69db7bf",
   "metadata": {},
   "outputs": [],
   "source": [
    "#Changing column names and cleaning up the result of the join\n",
    "(users.merge(roles, \n",
    "            left_on='role_id', \n",
    "            right_on='id', \n",
    "            how='outer')\n",
    "    .drop(columns='role_id')\n",
    "    .rename(columns={'id_x': 'id', \n",
    "                     'name_x': 'employee',\n",
    "                     'id_y': 'role_id',\n",
    "                     'name_y': 'role'}\n",
    "            )\n",
    ")"
   ]
  },
  {
   "cell_type": "markdown",
   "id": "226754e5",
   "metadata": {},
   "source": [
    "4. What happens if you drop the foreign keys from the DataFrames and try to merge them?"
   ]
  },
  {
   "cell_type": "code",
   "execution_count": null,
   "id": "248fcf18",
   "metadata": {},
   "outputs": [],
   "source": [
    "#you'd get an error"
   ]
  },
  {
   "cell_type": "markdown",
   "id": "45a4d24b",
   "metadata": {},
   "source": [
    "5. Load the mpg dataset from PyDataset."
   ]
  },
  {
   "cell_type": "code",
   "execution_count": null,
   "id": "dd204de2",
   "metadata": {},
   "outputs": [],
   "source": [
    "mpg"
   ]
  },
  {
   "cell_type": "markdown",
   "id": "b6310be3",
   "metadata": {},
   "source": [
    "6. Output and read the documentation for the mpg dataset."
   ]
  },
  {
   "cell_type": "code",
   "execution_count": null,
   "id": "6b62a7ae",
   "metadata": {},
   "outputs": [],
   "source": [
    "data('mpg', show_doc=True)"
   ]
  },
  {
   "cell_type": "markdown",
   "id": "b54ae4f5",
   "metadata": {},
   "source": [
    "7. How many rows and columns are in the dataset?"
   ]
  },
  {
   "cell_type": "code",
   "execution_count": null,
   "id": "51dda18b",
   "metadata": {},
   "outputs": [],
   "source": [
    "mpg.shape"
   ]
  },
  {
   "cell_type": "markdown",
   "id": "f3b8928a",
   "metadata": {},
   "source": [
    "8. Check out your column names and perform any cleanup you may want on them."
   ]
  },
  {
   "cell_type": "code",
   "execution_count": null,
   "id": "2163f048",
   "metadata": {},
   "outputs": [],
   "source": [
    "mpg.columns\n",
    "mpg = mpg.rename(columns={'cty': 'city', \n",
    "                     'hwy': 'highway',\n",
    "                     'class': 'variety'}\n",
    "            )\n",
    "mpg.columns"
   ]
  },
  {
   "cell_type": "markdown",
   "id": "58b3532e",
   "metadata": {},
   "source": [
    "9. Display the summary statistics for the dataset."
   ]
  },
  {
   "cell_type": "code",
   "execution_count": null,
   "id": "ca26a75f",
   "metadata": {},
   "outputs": [],
   "source": [
    "mpg.describe()"
   ]
  },
  {
   "cell_type": "markdown",
   "id": "5332d288",
   "metadata": {},
   "source": [
    "10. How many different manufacturers are there?"
   ]
  },
  {
   "cell_type": "code",
   "execution_count": null,
   "id": "42822520",
   "metadata": {},
   "outputs": [],
   "source": [
    "#mpg.manufacturer.nunique()\n",
    "#mpg.manufacturer.drop_duplicates().count()\n",
    "\n",
    "mpg.manufacturer.value_counts().count()\n"
   ]
  },
  {
   "cell_type": "markdown",
   "id": "2a697382",
   "metadata": {},
   "source": [
    "11. How many different models are there?"
   ]
  },
  {
   "cell_type": "code",
   "execution_count": null,
   "id": "c71fa2b7",
   "metadata": {},
   "outputs": [],
   "source": [
    "#mpg.model.nunique()\n",
    "#mpg.model.drop_duplicates().count()\n",
    "mpg.model.value_counts().count()"
   ]
  },
  {
   "cell_type": "markdown",
   "id": "1ece1205",
   "metadata": {},
   "source": [
    "12. Create a column named mileage_difference like you did in the DataFrames exercises; this column should contain the difference between highway and city mileage for each car."
   ]
  },
  {
   "cell_type": "code",
   "execution_count": null,
   "id": "fa5f0315",
   "metadata": {},
   "outputs": [],
   "source": [
    "mpg['mileage_difference'] = mpg.highway - mpg.city\n",
    "mpg"
   ]
  },
  {
   "cell_type": "markdown",
   "id": "0e03a77b",
   "metadata": {},
   "source": [
    "13. Create a column named average_mileage like you did in the DataFrames exercises; this is the mean of the city and highway mileage."
   ]
  },
  {
   "cell_type": "code",
   "execution_count": null,
   "id": "0063f18c",
   "metadata": {},
   "outputs": [],
   "source": [
    "mpg['average_mileage'] = (mpg.highway + mpg.city) / 2\n",
    "mpg"
   ]
  },
  {
   "cell_type": "markdown",
   "id": "6e2c2791",
   "metadata": {},
   "source": [
    "14. Create a new column on the mpg dataset named is_automatic that holds boolean values denoting whether the car has an automatic transmission."
   ]
  },
  {
   "cell_type": "code",
   "execution_count": null,
   "id": "da0e42cf",
   "metadata": {},
   "outputs": [],
   "source": [
    "#mpg['is_automatic'] = (mpg.trans != 'manual(m5)') & (mpg.trans != 'manual(m6)')\n",
    "\n",
    "mpg['is_automatic'] = mpg.trans.str.startswith('a')\n",
    "mpg\n"
   ]
  },
  {
   "cell_type": "markdown",
   "id": "9c2e13ee",
   "metadata": {},
   "source": [
    "15. Using the mpg dataset, find out which which manufacturer has the best miles per gallon on average?"
   ]
  },
  {
   "cell_type": "code",
   "execution_count": null,
   "id": "9b398de7",
   "metadata": {},
   "outputs": [],
   "source": [
    "#mpg.groupby('manufacturer')['average_mileage'].agg('mean')\n",
    "mpg.groupby('manufacturer')['average_mileage'].mean().sort_values(ascending = False)"
   ]
  },
  {
   "cell_type": "code",
   "execution_count": null,
   "id": "cc4f63b3",
   "metadata": {},
   "outputs": [],
   "source": [
    "mpg.groupby('manufacturer')['average_mileage'].mean().nlargest(2)"
   ]
  },
  {
   "cell_type": "markdown",
   "id": "eaa6c1e9",
   "metadata": {},
   "source": [
    "16. Do automatic or manual cars have better miles per gallon?"
   ]
  },
  {
   "cell_type": "code",
   "execution_count": null,
   "id": "92e41317",
   "metadata": {
    "scrolled": true
   },
   "outputs": [],
   "source": [
    "mpg.sort_values(['average_mileage', 'trans'], ascending = False)"
   ]
  },
  {
   "cell_type": "code",
   "execution_count": null,
   "id": "d730c1dd",
   "metadata": {},
   "outputs": [],
   "source": [
    "mpg.groupby('is_automatic')['average_mileage'].mean()"
   ]
  },
  {
   "cell_type": "markdown",
   "id": "519d3d20",
   "metadata": {},
   "source": [
    "# Exercises III"
   ]
  },
  {
   "cell_type": "markdown",
   "id": "351cdf24",
   "metadata": {},
   "source": [
    "1. Use your get_db_url function to help you explore the data from the chipotle database."
   ]
  },
  {
   "cell_type": "code",
   "execution_count": null,
   "id": "9d3dfc64",
   "metadata": {},
   "outputs": [],
   "source": [
    "url_chipotle = get_db_url(\"chipotle\")"
   ]
  },
  {
   "cell_type": "code",
   "execution_count": null,
   "id": "a9d0463c",
   "metadata": {},
   "outputs": [],
   "source": [
    "url_chipotle = get_db_url(\"chipotle\")\n",
    "query_chipotle = '''\n",
    "SELECT\n",
    "    *\n",
    "FROM orders;\n",
    "'''\n",
    "df_chipotle = pd.read_sql(query_chipotle, url_chipotle)\n",
    "df_chipotle.info()"
   ]
  },
  {
   "cell_type": "markdown",
   "id": "55951dea",
   "metadata": {},
   "source": [
    "2. What is the total price for each order?"
   ]
  },
  {
   "cell_type": "code",
   "execution_count": null,
   "id": "41266eca",
   "metadata": {},
   "outputs": [],
   "source": [
    "df_chipotle['item_price'] = df_chipotle['item_price'].str.replace('$', '').astype(float)"
   ]
  },
  {
   "cell_type": "code",
   "execution_count": null,
   "id": "d1d5f283",
   "metadata": {},
   "outputs": [],
   "source": [
    "df_chipotle.dtypes"
   ]
  },
  {
   "cell_type": "code",
   "execution_count": null,
   "id": "fd6061bd",
   "metadata": {},
   "outputs": [],
   "source": [
    "df_chipotle.groupby('order_id')['item_price'].sum()"
   ]
  },
  {
   "cell_type": "markdown",
   "id": "8b0cba0a",
   "metadata": {},
   "source": [
    "3. What are the most popular 3 items?"
   ]
  },
  {
   "cell_type": "code",
   "execution_count": null,
   "id": "1d6cfb82",
   "metadata": {},
   "outputs": [],
   "source": [
    "df_chipotle.groupby('item_name')['id'].count().nlargest(3)"
   ]
  },
  {
   "cell_type": "markdown",
   "id": "e9527c56",
   "metadata": {},
   "source": [
    "4. Which item has produced the most revenue?"
   ]
  },
  {
   "cell_type": "code",
   "execution_count": null,
   "id": "c058b541",
   "metadata": {},
   "outputs": [],
   "source": [
    "df_chipotle.groupby('item_name')['item_price'].sum().nlargest(1)"
   ]
  },
  {
   "cell_type": "markdown",
   "id": "43f31541",
   "metadata": {},
   "source": [
    "5. Join the employees and titles DataFrames together."
   ]
  },
  {
   "cell_type": "code",
   "execution_count": 9,
   "id": "07245111",
   "metadata": {},
   "outputs": [
    {
     "data": {
      "text/html": [
       "<div>\n",
       "<style scoped>\n",
       "    .dataframe tbody tr th:only-of-type {\n",
       "        vertical-align: middle;\n",
       "    }\n",
       "\n",
       "    .dataframe tbody tr th {\n",
       "        vertical-align: top;\n",
       "    }\n",
       "\n",
       "    .dataframe thead th {\n",
       "        text-align: right;\n",
       "    }\n",
       "</style>\n",
       "<table border=\"1\" class=\"dataframe\">\n",
       "  <thead>\n",
       "    <tr style=\"text-align: right;\">\n",
       "      <th></th>\n",
       "      <th>emp_no</th>\n",
       "      <th>birth_date</th>\n",
       "      <th>first_name</th>\n",
       "      <th>last_name</th>\n",
       "      <th>gender</th>\n",
       "      <th>hire_date</th>\n",
       "      <th>title</th>\n",
       "      <th>from_date</th>\n",
       "      <th>to_date</th>\n",
       "    </tr>\n",
       "  </thead>\n",
       "  <tbody>\n",
       "    <tr>\n",
       "      <th>0</th>\n",
       "      <td>10001</td>\n",
       "      <td>1953-09-02</td>\n",
       "      <td>Georgi</td>\n",
       "      <td>Facello</td>\n",
       "      <td>M</td>\n",
       "      <td>1986-06-26</td>\n",
       "      <td>Senior Engineer</td>\n",
       "      <td>1986-06-26</td>\n",
       "      <td>9999-01-01</td>\n",
       "    </tr>\n",
       "    <tr>\n",
       "      <th>1</th>\n",
       "      <td>10002</td>\n",
       "      <td>1964-06-02</td>\n",
       "      <td>Bezalel</td>\n",
       "      <td>Simmel</td>\n",
       "      <td>F</td>\n",
       "      <td>1985-11-21</td>\n",
       "      <td>Staff</td>\n",
       "      <td>1996-08-03</td>\n",
       "      <td>9999-01-01</td>\n",
       "    </tr>\n",
       "    <tr>\n",
       "      <th>2</th>\n",
       "      <td>10003</td>\n",
       "      <td>1959-12-03</td>\n",
       "      <td>Parto</td>\n",
       "      <td>Bamford</td>\n",
       "      <td>M</td>\n",
       "      <td>1986-08-28</td>\n",
       "      <td>Senior Engineer</td>\n",
       "      <td>1995-12-03</td>\n",
       "      <td>9999-01-01</td>\n",
       "    </tr>\n",
       "    <tr>\n",
       "      <th>3</th>\n",
       "      <td>10004</td>\n",
       "      <td>1954-05-01</td>\n",
       "      <td>Chirstian</td>\n",
       "      <td>Koblick</td>\n",
       "      <td>M</td>\n",
       "      <td>1986-12-01</td>\n",
       "      <td>Engineer</td>\n",
       "      <td>1986-12-01</td>\n",
       "      <td>1995-12-01</td>\n",
       "    </tr>\n",
       "    <tr>\n",
       "      <th>4</th>\n",
       "      <td>10004</td>\n",
       "      <td>1954-05-01</td>\n",
       "      <td>Chirstian</td>\n",
       "      <td>Koblick</td>\n",
       "      <td>M</td>\n",
       "      <td>1986-12-01</td>\n",
       "      <td>Senior Engineer</td>\n",
       "      <td>1995-12-01</td>\n",
       "      <td>9999-01-01</td>\n",
       "    </tr>\n",
       "    <tr>\n",
       "      <th>...</th>\n",
       "      <td>...</td>\n",
       "      <td>...</td>\n",
       "      <td>...</td>\n",
       "      <td>...</td>\n",
       "      <td>...</td>\n",
       "      <td>...</td>\n",
       "      <td>...</td>\n",
       "      <td>...</td>\n",
       "      <td>...</td>\n",
       "    </tr>\n",
       "    <tr>\n",
       "      <th>443303</th>\n",
       "      <td>499997</td>\n",
       "      <td>1961-08-03</td>\n",
       "      <td>Berhard</td>\n",
       "      <td>Lenart</td>\n",
       "      <td>M</td>\n",
       "      <td>1986-04-21</td>\n",
       "      <td>Engineer</td>\n",
       "      <td>1987-08-30</td>\n",
       "      <td>1992-08-29</td>\n",
       "    </tr>\n",
       "    <tr>\n",
       "      <th>443304</th>\n",
       "      <td>499997</td>\n",
       "      <td>1961-08-03</td>\n",
       "      <td>Berhard</td>\n",
       "      <td>Lenart</td>\n",
       "      <td>M</td>\n",
       "      <td>1986-04-21</td>\n",
       "      <td>Senior Engineer</td>\n",
       "      <td>1992-08-29</td>\n",
       "      <td>9999-01-01</td>\n",
       "    </tr>\n",
       "    <tr>\n",
       "      <th>443305</th>\n",
       "      <td>499998</td>\n",
       "      <td>1956-09-05</td>\n",
       "      <td>Patricia</td>\n",
       "      <td>Breugel</td>\n",
       "      <td>M</td>\n",
       "      <td>1993-10-13</td>\n",
       "      <td>Senior Staff</td>\n",
       "      <td>1998-12-27</td>\n",
       "      <td>9999-01-01</td>\n",
       "    </tr>\n",
       "    <tr>\n",
       "      <th>443306</th>\n",
       "      <td>499998</td>\n",
       "      <td>1956-09-05</td>\n",
       "      <td>Patricia</td>\n",
       "      <td>Breugel</td>\n",
       "      <td>M</td>\n",
       "      <td>1993-10-13</td>\n",
       "      <td>Staff</td>\n",
       "      <td>1993-12-27</td>\n",
       "      <td>1998-12-27</td>\n",
       "    </tr>\n",
       "    <tr>\n",
       "      <th>443307</th>\n",
       "      <td>499999</td>\n",
       "      <td>1958-05-01</td>\n",
       "      <td>Sachin</td>\n",
       "      <td>Tsukuda</td>\n",
       "      <td>M</td>\n",
       "      <td>1997-11-30</td>\n",
       "      <td>Engineer</td>\n",
       "      <td>1997-11-30</td>\n",
       "      <td>9999-01-01</td>\n",
       "    </tr>\n",
       "  </tbody>\n",
       "</table>\n",
       "<p>443308 rows × 9 columns</p>\n",
       "</div>"
      ],
      "text/plain": [
       "        emp_no  birth_date first_name last_name gender   hire_date  \\\n",
       "0        10001  1953-09-02     Georgi   Facello      M  1986-06-26   \n",
       "1        10002  1964-06-02    Bezalel    Simmel      F  1985-11-21   \n",
       "2        10003  1959-12-03      Parto   Bamford      M  1986-08-28   \n",
       "3        10004  1954-05-01  Chirstian   Koblick      M  1986-12-01   \n",
       "4        10004  1954-05-01  Chirstian   Koblick      M  1986-12-01   \n",
       "...        ...         ...        ...       ...    ...         ...   \n",
       "443303  499997  1961-08-03    Berhard    Lenart      M  1986-04-21   \n",
       "443304  499997  1961-08-03    Berhard    Lenart      M  1986-04-21   \n",
       "443305  499998  1956-09-05   Patricia   Breugel      M  1993-10-13   \n",
       "443306  499998  1956-09-05   Patricia   Breugel      M  1993-10-13   \n",
       "443307  499999  1958-05-01     Sachin   Tsukuda      M  1997-11-30   \n",
       "\n",
       "                  title   from_date     to_date  \n",
       "0       Senior Engineer  1986-06-26  9999-01-01  \n",
       "1                 Staff  1996-08-03  9999-01-01  \n",
       "2       Senior Engineer  1995-12-03  9999-01-01  \n",
       "3              Engineer  1986-12-01  1995-12-01  \n",
       "4       Senior Engineer  1995-12-01  9999-01-01  \n",
       "...                 ...         ...         ...  \n",
       "443303         Engineer  1987-08-30  1992-08-29  \n",
       "443304  Senior Engineer  1992-08-29  9999-01-01  \n",
       "443305     Senior Staff  1998-12-27  9999-01-01  \n",
       "443306            Staff  1993-12-27  1998-12-27  \n",
       "443307         Engineer  1997-11-30  9999-01-01  \n",
       "\n",
       "[443308 rows x 9 columns]"
      ]
     },
     "execution_count": 9,
     "metadata": {},
     "output_type": "execute_result"
    }
   ],
   "source": [
    "df_employees.merge(df_titles, on = 'emp_no')"
   ]
  },
  {
   "cell_type": "markdown",
   "id": "7182d172",
   "metadata": {},
   "source": [
    "6. For each title, find the hire date of the employee that was hired most recently with that title."
   ]
  },
  {
   "cell_type": "code",
   "execution_count": 11,
   "id": "8e9485e8",
   "metadata": {},
   "outputs": [],
   "source": [
    "emp_title = df_employees.merge(df_titles, on = 'emp_no')"
   ]
  },
  {
   "cell_type": "code",
   "execution_count": 12,
   "id": "bb9a57de",
   "metadata": {},
   "outputs": [
    {
     "data": {
      "text/plain": [
       "title\n",
       "Assistant Engineer    2000-02-01\n",
       "Engineer              2002-08-01\n",
       "Manager               1996-08-30\n",
       "Senior Engineer       2002-08-01\n",
       "Senior Staff          2002-08-01\n",
       "Staff                 2000-02-01\n",
       "Technique Leader      2000-02-01\n",
       "Name: from_date, dtype: object"
      ]
     },
     "execution_count": 12,
     "metadata": {},
     "output_type": "execute_result"
    }
   ],
   "source": [
    "emp_title.groupby('title')['from_date'].agg('max')"
   ]
  },
  {
   "cell_type": "markdown",
   "id": "1ffd933a",
   "metadata": {},
   "source": [
    "7. Write the code necessary to create a cross tabulation of the number of titles by department. (Hint: this will involve a combination of SQL code to pull the necessary data and python/pandas code to perform the manipulations.)"
   ]
  },
  {
   "cell_type": "code",
   "execution_count": 13,
   "id": "e4846136",
   "metadata": {},
   "outputs": [],
   "source": [
    "cross_query = '''\n",
    "            SELECT t.title, d.dept_name\n",
    "            FROM dept_emp\n",
    "            JOIN titles t USING(emp_no)\n",
    "            JOIN departments d USING(dept_no)\n",
    "            WHERE t.to_date > NOW();\n",
    "            '''"
   ]
  },
  {
   "cell_type": "code",
   "execution_count": 15,
   "id": "30b7a261",
   "metadata": {},
   "outputs": [],
   "source": [
    "cross_url = get_db_url('employees')"
   ]
  },
  {
   "cell_type": "code",
   "execution_count": 16,
   "id": "289a2b9a",
   "metadata": {},
   "outputs": [
    {
     "data": {
      "text/html": [
       "<div>\n",
       "<style scoped>\n",
       "    .dataframe tbody tr th:only-of-type {\n",
       "        vertical-align: middle;\n",
       "    }\n",
       "\n",
       "    .dataframe tbody tr th {\n",
       "        vertical-align: top;\n",
       "    }\n",
       "\n",
       "    .dataframe thead th {\n",
       "        text-align: right;\n",
       "    }\n",
       "</style>\n",
       "<table border=\"1\" class=\"dataframe\">\n",
       "  <thead>\n",
       "    <tr style=\"text-align: right;\">\n",
       "      <th></th>\n",
       "      <th>title</th>\n",
       "      <th>dept_name</th>\n",
       "    </tr>\n",
       "  </thead>\n",
       "  <tbody>\n",
       "    <tr>\n",
       "      <th>0</th>\n",
       "      <td>Senior Engineer</td>\n",
       "      <td>Development</td>\n",
       "    </tr>\n",
       "    <tr>\n",
       "      <th>1</th>\n",
       "      <td>Staff</td>\n",
       "      <td>Sales</td>\n",
       "    </tr>\n",
       "    <tr>\n",
       "      <th>2</th>\n",
       "      <td>Senior Engineer</td>\n",
       "      <td>Production</td>\n",
       "    </tr>\n",
       "    <tr>\n",
       "      <th>3</th>\n",
       "      <td>Senior Engineer</td>\n",
       "      <td>Production</td>\n",
       "    </tr>\n",
       "    <tr>\n",
       "      <th>4</th>\n",
       "      <td>Senior Staff</td>\n",
       "      <td>Human Resources</td>\n",
       "    </tr>\n",
       "  </tbody>\n",
       "</table>\n",
       "</div>"
      ],
      "text/plain": [
       "             title        dept_name\n",
       "0  Senior Engineer      Development\n",
       "1            Staff            Sales\n",
       "2  Senior Engineer       Production\n",
       "3  Senior Engineer       Production\n",
       "4     Senior Staff  Human Resources"
      ]
     },
     "execution_count": 16,
     "metadata": {},
     "output_type": "execute_result"
    }
   ],
   "source": [
    "df_cross = pd.read_sql(cross_query, cross_url)\n",
    "\n",
    "df_cross.head()"
   ]
  },
  {
   "cell_type": "code",
   "execution_count": 17,
   "id": "1e741431",
   "metadata": {},
   "outputs": [
    {
     "data": {
      "text/plain": [
       "(265332, 2)"
      ]
     },
     "execution_count": 17,
     "metadata": {},
     "output_type": "execute_result"
    }
   ],
   "source": [
    "df_cross.shape"
   ]
  },
  {
   "cell_type": "code",
   "execution_count": 19,
   "id": "27f27c23",
   "metadata": {},
   "outputs": [
    {
     "data": {
      "text/html": [
       "<div>\n",
       "<style scoped>\n",
       "    .dataframe tbody tr th:only-of-type {\n",
       "        vertical-align: middle;\n",
       "    }\n",
       "\n",
       "    .dataframe tbody tr th {\n",
       "        vertical-align: top;\n",
       "    }\n",
       "\n",
       "    .dataframe thead th {\n",
       "        text-align: right;\n",
       "    }\n",
       "</style>\n",
       "<table border=\"1\" class=\"dataframe\">\n",
       "  <thead>\n",
       "    <tr style=\"text-align: right;\">\n",
       "      <th>dept_name</th>\n",
       "      <th>Customer Service</th>\n",
       "      <th>Development</th>\n",
       "      <th>Finance</th>\n",
       "      <th>Human Resources</th>\n",
       "      <th>Marketing</th>\n",
       "      <th>Production</th>\n",
       "      <th>Quality Management</th>\n",
       "      <th>Research</th>\n",
       "      <th>Sales</th>\n",
       "    </tr>\n",
       "    <tr>\n",
       "      <th>title</th>\n",
       "      <th></th>\n",
       "      <th></th>\n",
       "      <th></th>\n",
       "      <th></th>\n",
       "      <th></th>\n",
       "      <th></th>\n",
       "      <th></th>\n",
       "      <th></th>\n",
       "      <th></th>\n",
       "    </tr>\n",
       "  </thead>\n",
       "  <tbody>\n",
       "    <tr>\n",
       "      <th>Assistant Engineer</th>\n",
       "      <td>68</td>\n",
       "      <td>1833</td>\n",
       "      <td>0</td>\n",
       "      <td>0</td>\n",
       "      <td>0</td>\n",
       "      <td>1542</td>\n",
       "      <td>433</td>\n",
       "      <td>77</td>\n",
       "      <td>0</td>\n",
       "    </tr>\n",
       "    <tr>\n",
       "      <th>Engineer</th>\n",
       "      <td>627</td>\n",
       "      <td>15677</td>\n",
       "      <td>0</td>\n",
       "      <td>0</td>\n",
       "      <td>0</td>\n",
       "      <td>13325</td>\n",
       "      <td>3744</td>\n",
       "      <td>830</td>\n",
       "      <td>0</td>\n",
       "    </tr>\n",
       "    <tr>\n",
       "      <th>Manager</th>\n",
       "      <td>1</td>\n",
       "      <td>1</td>\n",
       "      <td>1</td>\n",
       "      <td>1</td>\n",
       "      <td>1</td>\n",
       "      <td>1</td>\n",
       "      <td>1</td>\n",
       "      <td>1</td>\n",
       "      <td>1</td>\n",
       "    </tr>\n",
       "    <tr>\n",
       "      <th>Senior Engineer</th>\n",
       "      <td>1790</td>\n",
       "      <td>43364</td>\n",
       "      <td>0</td>\n",
       "      <td>0</td>\n",
       "      <td>0</td>\n",
       "      <td>37156</td>\n",
       "      <td>10390</td>\n",
       "      <td>2250</td>\n",
       "      <td>0</td>\n",
       "    </tr>\n",
       "    <tr>\n",
       "      <th>Senior Staff</th>\n",
       "      <td>12349</td>\n",
       "      <td>1085</td>\n",
       "      <td>10650</td>\n",
       "      <td>10843</td>\n",
       "      <td>12371</td>\n",
       "      <td>1123</td>\n",
       "      <td>0</td>\n",
       "      <td>10219</td>\n",
       "      <td>32032</td>\n",
       "    </tr>\n",
       "    <tr>\n",
       "      <th>Staff</th>\n",
       "      <td>3902</td>\n",
       "      <td>315</td>\n",
       "      <td>3199</td>\n",
       "      <td>3416</td>\n",
       "      <td>3880</td>\n",
       "      <td>349</td>\n",
       "      <td>0</td>\n",
       "      <td>3206</td>\n",
       "      <td>9967</td>\n",
       "    </tr>\n",
       "    <tr>\n",
       "      <th>Technique Leader</th>\n",
       "      <td>241</td>\n",
       "      <td>6117</td>\n",
       "      <td>0</td>\n",
       "      <td>0</td>\n",
       "      <td>0</td>\n",
       "      <td>5210</td>\n",
       "      <td>1422</td>\n",
       "      <td>321</td>\n",
       "      <td>0</td>\n",
       "    </tr>\n",
       "  </tbody>\n",
       "</table>\n",
       "</div>"
      ],
      "text/plain": [
       "dept_name           Customer Service  Development  Finance  Human Resources  \\\n",
       "title                                                                         \n",
       "Assistant Engineer                68         1833        0                0   \n",
       "Engineer                         627        15677        0                0   \n",
       "Manager                            1            1        1                1   \n",
       "Senior Engineer                 1790        43364        0                0   \n",
       "Senior Staff                   12349         1085    10650            10843   \n",
       "Staff                           3902          315     3199             3416   \n",
       "Technique Leader                 241         6117        0                0   \n",
       "\n",
       "dept_name           Marketing  Production  Quality Management  Research  Sales  \n",
       "title                                                                           \n",
       "Assistant Engineer          0        1542                 433        77      0  \n",
       "Engineer                    0       13325                3744       830      0  \n",
       "Manager                     1           1                   1         1      1  \n",
       "Senior Engineer             0       37156               10390      2250      0  \n",
       "Senior Staff            12371        1123                   0     10219  32032  \n",
       "Staff                    3880         349                   0      3206   9967  \n",
       "Technique Leader            0        5210                1422       321      0  "
      ]
     },
     "execution_count": 19,
     "metadata": {},
     "output_type": "execute_result"
    }
   ],
   "source": [
    "pd.crosstab(df_cross['title'], df_cross['dept_name'])"
   ]
  },
  {
   "cell_type": "code",
   "execution_count": null,
   "id": "e87259eb",
   "metadata": {},
   "outputs": [],
   "source": []
  },
  {
   "cell_type": "code",
   "execution_count": null,
   "id": "621a86b2",
   "metadata": {},
   "outputs": [],
   "source": []
  }
 ],
 "metadata": {
  "kernelspec": {
   "display_name": "Python 3 (ipykernel)",
   "language": "python",
   "name": "python3"
  },
  "language_info": {
   "codemirror_mode": {
    "name": "ipython",
    "version": 3
   },
   "file_extension": ".py",
   "mimetype": "text/x-python",
   "name": "python",
   "nbconvert_exporter": "python",
   "pygments_lexer": "ipython3",
   "version": "3.9.13"
  }
 },
 "nbformat": 4,
 "nbformat_minor": 5
}
